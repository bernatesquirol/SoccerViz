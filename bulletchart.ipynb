{
 "cells": [
  {
   "cell_type": "code",
   "execution_count": 2,
   "metadata": {},
   "outputs": [],
   "source": [
    "import pandas as pd\n",
    "import altair as alt\n",
    "import numpy as np\n"
   ]
  },
  {
   "cell_type": "code",
   "execution_count": 3,
   "metadata": {},
   "outputs": [],
   "source": [
    "#LEAD CHANGES\n",
    "# RESULTS: (Country, status changes, all games)\n",
    "# England   2012    380    5.29\n",
    "# France    2045    380    5.38\n",
    "# Germany   1691    306    5.52\n",
    "# Spain     2026    380    5.33\n",
    "# Italy     2006    380    5.27\n",
    "\n",
    "lead = np.array([5.29, 5.38, 5.52, 5.33, 5.27])\n",
    "#maxLead = max(lead)\n",
    "#lead = lead/maxLead"
   ]
  },
  {
   "cell_type": "code",
   "execution_count": 4,
   "metadata": {},
   "outputs": [],
   "source": [
    "#LAST MINUTE GOALS\n",
    "# RESULTS: (Country, last minutes goals, all games)\n",
    "# England   168     380     0.442\n",
    "# France    156     380     0.411\n",
    "# Germany   130     306     0.424\n",
    "# Spain     145     380     0.381\n",
    "# Italy     158     380     0.415\n",
    "\n",
    "lastmin = np.array([0.442, 0.411, 0.424, 0.381, 0.415])\n",
    "#maxLastmin = max(lastmin)\n",
    "#lastmin = lastmin / maxLastmin"
   ]
  },
  {
   "cell_type": "code",
   "execution_count": 28,
   "metadata": {},
   "outputs": [],
   "source": [
    "#GOALLESS DRAWS\n",
    "# RESULTS: (Country, goalless games, all games)\n",
    "# England   32      380     0.0842\n",
    "# France    21      380     0.0552\n",
    "# Germany   21      306     0.0686\n",
    "# Spain     28      380     0.0736\n",
    "# Italy     28      380     0.0736\n",
    "\n",
    "goalles = np.array([0.0842, 0.0552, 0.0686,0.0736, 0.0736])*100\n",
    "# maxGoalles = max(goalles)\n",
    "# goalles = goalles/maxGoalles"
   ]
  },
  {
   "cell_type": "code",
   "execution_count": 29,
   "metadata": {},
   "outputs": [],
   "source": [
    "properties = ['Lead changes', 'Last minute goals','Goalless draws']\n",
    "properties = ['lead', 'lastmin', 'goalless']\n",
    "values =  [ lead[3], lastmin[3], goalles[3]]\n",
    "means = [np.mean(lead), np.mean(lastmin), np.mean(goalles)]\n",
    "\n",
    "bulletchartLEADdf = pd.DataFrame({properties[0]:values[0], 'Average':means[0]}, index=[0])\n",
    "bulletchartLASTMINdf = pd.DataFrame({properties[1]:values[1], 'Average':means[1]}, index=[0])\n",
    "bulletchartDRAWSdf =  pd.DataFrame({properties[2]:values[2], 'Average':means[2]}, index=[0])"
   ]
  },
  {
   "cell_type": "code",
   "execution_count": 34,
   "metadata": {},
   "outputs": [
    {
     "data": {
      "application/vnd.vegalite.v3+json": {
       "$schema": "https://vega.github.io/schema/vega-lite/v3.4.0.json",
       "config": {
        "mark": {
         "tooltip": null
        },
        "scale": {
         "rangeStep": 40
        },
        "tick": {
         "bandSize": 100
        },
        "view": {
         "height": 300,
         "width": 400
        }
       },
       "datasets": {
        "data-36c4a691dfd0d613a92af868c079b5ad": [
         {
          "Average": 7.103999999999999,
          "goalless": 7.359999999999999
         }
        ],
        "data-57b0f8582903fb86a6285e79c9616077": [
         {
          "Average": 5.357999999999999,
          "lead": 5.33
         }
        ],
        "data-64caec55755ddaa70f6db430c7a66b6a": [
         {
          "Average": 0.41459999999999997,
          "lastmin": 0.381
         }
        ]
       },
       "vconcat": [
        {
         "data": {
          "name": "data-57b0f8582903fb86a6285e79c9616077"
         },
         "layer": [
          {
           "encoding": {
            "x": {
             "axis": {
              "title": "Changes in the lead per 90"
             },
             "field": "lead",
             "type": "quantitative"
            }
           },
           "height": 100,
           "mark": "bar",
           "width": 500
          },
          {
           "encoding": {
            "x": {
             "field": "Average",
             "type": "quantitative"
            }
           },
           "height": 100,
           "mark": {
            "color": "red",
            "thickness": 2,
            "type": "tick"
           },
           "width": 500
          }
         ]
        },
        {
         "data": {
          "name": "data-64caec55755ddaa70f6db430c7a66b6a"
         },
         "layer": [
          {
           "encoding": {
            "x": {
             "axis": {
              "title": "Last minutes goals per 90"
             },
             "field": "lastmin",
             "type": "quantitative"
            }
           },
           "height": 100,
           "mark": "bar",
           "width": 500
          },
          {
           "encoding": {
            "x": {
             "field": "Average",
             "type": "quantitative"
            }
           },
           "height": 100,
           "mark": {
            "color": "red",
            "thickness": 2,
            "type": "tick"
           },
           "width": 500
          }
         ]
        },
        {
         "data": {
          "name": "data-36c4a691dfd0d613a92af868c079b5ad"
         },
         "layer": [
          {
           "encoding": {
            "x": {
             "axis": {
              "title": "Percentage of goalless draws"
             },
             "field": "goalless",
             "type": "quantitative"
            }
           },
           "height": 100,
           "mark": "bar",
           "width": 500
          },
          {
           "encoding": {
            "x": {
             "field": "Average",
             "type": "quantitative"
            }
           },
           "height": 100,
           "mark": {
            "color": "red",
            "thickness": 2,
            "type": "tick"
           },
           "width": 500
          }
         ]
        }
       ]
      },
      "image/png": "[encoded data removed]",
      "text/plain": [
       "<VegaLite 3 object>\n",
       "\n",
       "If you see this message, it means the renderer has not been properly enabled\n",
       "for the frontend that you are using. For more information, see\n",
       "https://altair-viz.github.io/user_guide/troubleshooting.html\n"
      ]
     },
     "execution_count": 34,
     "metadata": {},
     "output_type": "execute_result"
    }
   ],
   "source": [
    "import altair as alt\n",
    "\n",
    "base = alt.Chart(bulletchartLEADdf, width = 500, height = 200)\n",
    "\n",
    "bulletchartLEAD= alt.Chart(bulletchartLEADdf, width = 500, height = 100).mark_bar().encode(\n",
    "#y = properties[0]+':N',\n",
    "x = alt.X(properties[0]+':Q', axis = alt.Axis(title='Changes in the lead per 90'))   \n",
    ")\n",
    "tickLEAD= alt.Chart(bulletchartLEADdf, width = 500, height = 100).mark_tick(color='red',thickness=2).encode(\n",
    "#y = 'Properties:N',\n",
    "x = 'Average:Q'\n",
    ")\n",
    "\n",
    "LEAD = (bulletchartLEAD+tickLEAD)\n",
    "\n",
    "bulletchartLASTMIN =  alt.Chart(bulletchartLASTMINdf, width = 500, height = 100).mark_bar().encode(\n",
    "#y = 'Properties:N',\n",
    "x = alt.X(properties[1]+':Q' , axis = alt.Axis(title='Last minutes goals per 90'))\n",
    ")\n",
    "\n",
    "tickLASTMIN= alt.Chart(bulletchartLASTMINdf, width = 500, height = 100).mark_tick(color='red',thickness=2).encode(\n",
    "#y = 'Properties:N',\n",
    "x = 'Average:Q'\n",
    ")\n",
    "\n",
    "LASTMIN = (bulletchartLASTMIN+tickLASTMIN)\n",
    "\n",
    "bulletchartDRAWS =  alt.Chart(bulletchartDRAWSdf, width = 500, height = 100).mark_bar().encode(\n",
    "#y = 'Properties:N',  \n",
    "x = alt.X(properties[2]+':Q', axis = alt.Axis(title='Percentage of goalless draws'))    \n",
    ")\n",
    "\n",
    "tickDRAWS= alt.Chart(bulletchartDRAWSdf, width = 500, height = 100).mark_tick(color='red',thickness=2).encode(\n",
    "#y = 'Properties:N',\n",
    "x = 'Average:Q'\n",
    ")\n",
    "\n",
    "DRAWS = (bulletchartDRAWS+tickDRAWS)\n",
    "\n",
    "\n",
    "alt.vconcat(LEAD, LASTMIN, DRAWS).configure_tick(\n",
    "    bandSize=100 # controls the width of the tick\n",
    ").configure_scale(\n",
    "    rangeStep=40  # controls the width of the bar\n",
    ")\n",
    "# (bulletchartLEAD+tickLEAD).configure_tick(\n",
    "#     bandSize=100 # controls the width of the tick\n",
    "# ).configure_scale(\n",
    "#     rangeStep=40  # controls the width of the bar\n",
    "# )\n"
   ]
  },
  {
   "cell_type": "code",
   "execution_count": 33,
   "metadata": {},
   "outputs": [
    {
     "data": {
      "text/plain": [
       "'lead:Q'"
      ]
     },
     "execution_count": 33,
     "metadata": {},
     "output_type": "execute_result"
    }
   ],
   "source": [
    "properties[0]+':Q'"
   ]
  },
  {
   "cell_type": "code",
   "execution_count": null,
   "metadata": {},
   "outputs": [],
   "source": []
  },
  {
   "cell_type": "code",
   "execution_count": null,
   "metadata": {},
   "outputs": [],
   "source": []
  },
  {
   "cell_type": "code",
   "execution_count": null,
   "metadata": {},
   "outputs": [],
   "source": []
  }
 ],
 "metadata": {
  "kernelspec": {
   "display_name": "Python 3",
   "language": "python",
   "name": "python3"
  },
  "language_info": {
   "codemirror_mode": {
    "name": "ipython",
    "version": 3
   },
   "file_extension": ".py",
   "mimetype": "text/x-python",
   "name": "python",
   "nbconvert_exporter": "python",
   "pygments_lexer": "ipython3",
   "version": "3.7.3"
  }
 },
 "nbformat": 4,
 "nbformat_minor": 4
}
