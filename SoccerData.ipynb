{
 "cells": [
  {
   "cell_type": "markdown",
   "metadata": {},
   "source": [
    "Download events (/events/) & matches (/matches/) & players (./players.json) from https://figshare.com/collections/Soccer_match_event_dataset/4415000/3"
   ]
  },
  {
   "cell_type": "code",
   "execution_count": null,
   "metadata": {},
   "outputs": [],
   "source": [
    "import pandas as pd\n",
    "import numpy as np\n",
    "from collections import ChainMap\n",
    "competition = 'England'\n",
    "events = pd.read_json('events/events_{}.json'.format(competition)).set_index('id')\n",
    "matches = pd.read_json('matches/matches_{}.json'.format(competition)).set_index('wyId')\n",
    "#players = pd.read_json('players.json').set_index('wyId')"
   ]
  },
  {
   "cell_type": "markdown",
   "metadata": {},
   "source": [
    "# Matches "
   ]
  },
  {
   "cell_type": "code",
   "execution_count": null,
   "metadata": {},
   "outputs": [],
   "source": [
    "def filter_last_minutes_events(events, matchId, minutes=10):\n",
    "    return events[(events['matchId']==matchId) & (events['matchPeriod']=='2H') & (events['eventSec']>(45-minutes)*60)]"
   ]
  },
  {
   "cell_type": "code",
   "execution_count": null,
   "metadata": {},
   "outputs": [],
   "source": [
    "minutes = 10"
   ]
  },
  {
   "cell_type": "code",
   "execution_count": null,
   "metadata": {},
   "outputs": [],
   "source": [
    "def get_shots_season(events):\n",
    "    events_shot = events[events.eventName == 'Shot']\n",
    "    fkShots = ['Free kick shot', 'Penalty']\n",
    "    events_fk = events[ (events.eventName == 'Free Kick') & (events.subEventName.isin(fkShots) )]\n",
    "    events_shot['Shots'] = events_shot.apply(lambda _: '1', axis=1)\n",
    "    events_fk['FreeKicks'] = events_fk.apply(lambda _: '1', axis=1)\n",
    "    fkShotsMatch = events_fk[['matchId','FreeKicks']].groupby('matchId').count()\n",
    "    shotsMatch = events_shot[['matchId','Shots']].groupby('matchId').count()\n",
    "    shots = pd.merge(fkShotsMatch, shotsMatch, on ='matchId')\n",
    "    shots['Total'] = shots.FreeKicks + shots.Shots\n",
    "    shots_array = np.array(shots.Total)\n",
    "    return np.mean(shots_array), np.std(shots_array)\n",
    "get_shots(events)"
   ]
  },
  {
   "cell_type": "markdown",
   "metadata": {},
   "source": [
    "# Classification"
   ]
  },
  {
   "cell_type": "code",
   "execution_count": null,
   "metadata": {},
   "outputs": [],
   "source": [
    "def get_goals_per_game(teamsData):\n",
    "    keys_team_data = list(teamsData.keys())\n",
    "    return {keys_team_data[0]:teamsData[keys_team_data[0]]['score'],keys_team_data[1]:teamsData[keys_team_data[1]]['score']}"
   ]
  },
  {
   "cell_type": "code",
   "execution_count": null,
   "metadata": {},
   "outputs": [],
   "source": [
    "def get_points_per_score(teamsData): #{'3783': 2, '3767': 1}    \n",
    "    keys_team_data = list(teamsData.keys())    \n",
    "    score_match = get_goals_per_game(teamsData)\n",
    "    if score_match[keys_team_data[0]]==score_match[keys_team_data[1]]:\n",
    "        return {keys_team_data[0]:1,keys_team_data[1]:1}\n",
    "    if score_match[keys_team_data[0]]>score_match[keys_team_data[1]]:\n",
    "        return {keys_team_data[0]:3,keys_team_data[1]:0}\n",
    "    if score_match[keys_team_data[0]]<score_match[keys_team_data[1]]:\n",
    "        return {keys_team_data[0]:0,keys_team_data[1]:3}"
   ]
  },
  {
   "cell_type": "code",
   "execution_count": null,
   "metadata": {},
   "outputs": [],
   "source": [
    "def get_points_round(round_matches):\n",
    "    matches_selected = round_matches.sort_values('gameweek')\n",
    "    dicts = matches_selected.apply(lambda x: get_points_per_score(x['teamsData']), axis=1)\n",
    "    return dict(ChainMap(*list(dicts)))"
   ]
  },
  {
   "cell_type": "code",
   "execution_count": null,
   "metadata": {},
   "outputs": [],
   "source": [
    "def get_points_league(matches):\n",
    "    all_rounds = {}\n",
    "    for gameweek, matches_played in matches.groupby('gameweek'):\n",
    "        all_rounds[gameweek]=get_points_round(matches_played)\n",
    "    return pd.DataFrame.from_dict(all_rounds)"
   ]
  },
  {
   "cell_type": "code",
   "execution_count": null,
   "metadata": {},
   "outputs": [],
   "source": [
    "# points = get_points_league(matches)"
   ]
  },
  {
   "cell_type": "code",
   "execution_count": null,
   "metadata": {},
   "outputs": [],
   "source": [
    "def get_points_aggregated_by_round(matches):\n",
    "    points = get_points_league(matches)\n",
    "    for round_i in range(2,len(points.columns)+1):\n",
    "        points[round_i]=points[[round_i-1,round_i]].sum(axis=1)\n",
    "    return points"
   ]
  },
  {
   "cell_type": "code",
   "execution_count": null,
   "metadata": {},
   "outputs": [],
   "source": [
    "# points_agg = get_points_aggregated_by_round(matches)"
   ]
  },
  {
   "cell_type": "code",
   "execution_count": null,
   "metadata": {},
   "outputs": [],
   "source": [
    "def get_classification_by_round(matches):\n",
    "    points_agg = get_points_aggregated_by_round(matches)\n",
    "    return points_agg.rank(method='first',ascending=False).astype(int)"
   ]
  },
  {
   "cell_type": "code",
   "execution_count": null,
   "metadata": {},
   "outputs": [],
   "source": [
    "#classification = get_classification_by_round(matches)"
   ]
  },
  {
   "cell_type": "code",
   "execution_count": null,
   "metadata": {},
   "outputs": [],
   "source": [
    "def get_frequency_of_position_changes(matches):\n",
    "    classification = get_classification_by_round(matches)\n",
    "    all_ranks = [rank for team in classification.values\n",
    "         for rank in [rank for i, rank in enumerate(team) \n",
    "            if i==0 or team[i-1]!=rank]]\n",
    "    unique, counts = np.unique(all_ranks, return_counts=True)\n",
    "    return pd.Series(dict(zip(unique, counts)))"
   ]
  },
  {
   "cell_type": "code",
   "execution_count": null,
   "metadata": {},
   "outputs": [],
   "source": [
    "import matplotlib.pyplot\n",
    "%matplotlib inline\n",
    "get_frequency_of_position_changes(matches).plot.barh()"
   ]
  },
  {
   "cell_type": "code",
   "execution_count": null,
   "metadata": {},
   "outputs": [],
   "source": [
    "# win / month"
   ]
  },
  {
   "cell_type": "code",
   "execution_count": null,
   "metadata": {},
   "outputs": [],
   "source": []
  },
  {
   "cell_type": "code",
   "execution_count": null,
   "metadata": {},
   "outputs": [],
   "source": []
  }
 ],
 "metadata": {
  "kernelspec": {
   "display_name": "Python 3",
   "language": "python",
   "name": "python3"
  },
  "language_info": {
   "codemirror_mode": {
    "name": "ipython",
    "version": 3
   },
   "file_extension": ".py",
   "mimetype": "text/x-python",
   "name": "python",
   "nbconvert_exporter": "python",
   "pygments_lexer": "ipython3",
   "version": "3.7.3"
  }
 },
 "nbformat": 4,
 "nbformat_minor": 4
}
