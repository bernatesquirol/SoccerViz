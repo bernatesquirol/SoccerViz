{
 "cells": [
  {
   "cell_type": "markdown",
   "metadata": {},
   "source": [
    "Download events (/events/) & matches (/matches/) & players (./players.json) from https://figshare.com/collections/Soccer_match_event_dataset/4415000/3"
   ]
  },
  {
   "cell_type": "code",
   "execution_count": 4,
   "metadata": {},
   "outputs": [],
   "source": [
    "import pandas as pd\n",
    "import numpy as np\n",
    "from collections import ChainMap\n"
   ]
  },
  {
   "cell_type": "markdown",
   "metadata": {},
   "source": [
    "# Matches "
   ]
  },
  {
   "cell_type": "code",
   "execution_count": 5,
   "metadata": {},
   "outputs": [],
   "source": [
    "def filter_last_minutes_events(events, matchId, minutes=10):\n",
    "    return events[(events['matchId']==matchId) & (events['matchPeriod']=='2H') & (events['eventSec']>(45-minutes)*60)]"
   ]
  },
  {
   "cell_type": "code",
   "execution_count": 6,
   "metadata": {},
   "outputs": [],
   "source": [
    "minutes = 10"
   ]
  },
  {
   "cell_type": "code",
   "execution_count": null,
   "metadata": {},
   "outputs": [],
   "source": []
  },
  {
   "cell_type": "markdown",
   "metadata": {},
   "source": [
    "# Classification"
   ]
  },
  {
   "cell_type": "code",
   "execution_count": 7,
   "metadata": {},
   "outputs": [],
   "source": [
    "def get_goals_per_game(teamsData):\n",
    "    keys_team_data = list(teamsData.keys())\n",
    "    return {keys_team_data[0]:teamsData[keys_team_data[0]]['score'],keys_team_data[1]:teamsData[keys_team_data[1]]['score']}"
   ]
  },
  {
   "cell_type": "code",
   "execution_count": 8,
   "metadata": {},
   "outputs": [],
   "source": [
    "def get_points_per_score(teamsData): #{'3783': 2, '3767': 1}    \n",
    "    keys_team_data = list(teamsData.keys())    \n",
    "    score_match = get_goals_per_game(teamsData)\n",
    "    if score_match[keys_team_data[0]]==score_match[keys_team_data[1]]:\n",
    "        return {keys_team_data[0]:1,keys_team_data[1]:1}\n",
    "    if score_match[keys_team_data[0]]>score_match[keys_team_data[1]]:\n",
    "        return {keys_team_data[0]:3,keys_team_data[1]:0}\n",
    "    if score_match[keys_team_data[0]]<score_match[keys_team_data[1]]:\n",
    "        return {keys_team_data[0]:0,keys_team_data[1]:3}"
   ]
  },
  {
   "cell_type": "code",
   "execution_count": 9,
   "metadata": {},
   "outputs": [],
   "source": [
    "def get_points_round(round_matches):\n",
    "    matches_selected = round_matches.sort_values('gameweek')\n",
    "    dicts = matches_selected.apply(lambda x: get_points_per_score(x['teamsData']), axis=1)\n",
    "    return dict(ChainMap(*list(dicts)))"
   ]
  },
  {
   "cell_type": "code",
   "execution_count": 10,
   "metadata": {},
   "outputs": [],
   "source": [
    "def get_points_league(matches):\n",
    "    all_rounds = {}\n",
    "    for gameweek, matches_played in matches.groupby('gameweek'):\n",
    "        all_rounds[gameweek]=get_points_round(matches_played)\n",
    "    return pd.DataFrame.from_dict(all_rounds)"
   ]
  },
  {
   "cell_type": "code",
   "execution_count": 11,
   "metadata": {},
   "outputs": [],
   "source": [
    "# points = get_points_league(matches)"
   ]
  },
  {
   "cell_type": "code",
   "execution_count": 12,
   "metadata": {},
   "outputs": [],
   "source": [
    "def get_points_aggregated_by_round(matches):\n",
    "    points = get_points_league(matches)\n",
    "    for round_i in range(2,len(points.columns)+1):\n",
    "        points[round_i]=points[[round_i-1,round_i]].sum(axis=1)\n",
    "    return points"
   ]
  },
  {
   "cell_type": "code",
   "execution_count": 13,
   "metadata": {},
   "outputs": [],
   "source": [
    "# points_agg = get_points_aggregated_by_round(matches)"
   ]
  },
  {
   "cell_type": "code",
   "execution_count": 14,
   "metadata": {},
   "outputs": [],
   "source": [
    "def get_classification_by_round(matches):\n",
    "    points_agg = get_points_aggregated_by_round(matches)\n",
    "    return points_agg.rank(method='first',ascending=False).astype(int)"
   ]
  },
  {
   "cell_type": "code",
   "execution_count": 15,
   "metadata": {},
   "outputs": [],
   "source": [
    "def get_dict_positions(matches):\n",
    "    classification = get_classification_by_round(matches)\n",
    "    dict_positions = {k+1:{} for k in range(len(classification))}\n",
    "    classification_transposed = classification.transpose()\n",
    "    for team in classification.index:\n",
    "        dict_team = classification_transposed.groupby(team).size().to_dict()\n",
    "        for key in dict_team.keys():\n",
    "            dict_positions[key][team]=dict_team[key]\n",
    "    return pd.Series(dict_positions)"
   ]
  },
  {
   "cell_type": "code",
   "execution_count": 16,
   "metadata": {},
   "outputs": [],
   "source": [
    "def get_frequency_of_position_changes(matches):\n",
    "    classification = get_classification_by_round(matches)\n",
    "    all_ranks = [rank for team in classification.values\n",
    "         for rank in [rank for i, rank in enumerate(team) \n",
    "            if i==0 or team[i-1]!=rank]]\n",
    "    unique, counts = np.unique(all_ranks, return_counts=True)\n",
    "    return pd.Series(dict(zip(unique, counts)))"
   ]
  },
  {
   "cell_type": "code",
   "execution_count": 17,
   "metadata": {},
   "outputs": [],
   "source": [
    "def get_jensen_breaks(matches):\n",
    "    classification_points = get_points_aggregated_by_round(matches)\n",
    "    last_round = classification_points[classification_points.columns[len(classification_points.columns)-1]].sort_values(ascending=False)\n",
    "    import jenkspy\n",
    "    breaks = jenkspy.jenks_breaks(last_round, nb_class=4)\n",
    "    breaks[0]=-1\n",
    "    cut_classification = pd.cut(last_round, breaks, labels=[4,3,2,1])\n",
    "    cut_classification.index = range(1,len(last_round)+1)\n",
    "    return cut_classification"
   ]
  },
  {
   "cell_type": "markdown",
   "metadata": {},
   "source": [
    "`conda install -c conda-forge jenkspy`"
   ]
  },
  {
   "cell_type": "code",
   "execution_count": 18,
   "metadata": {},
   "outputs": [],
   "source": [
    "\n",
    "#freq.plot.barh()"
   ]
  },
  {
   "cell_type": "code",
   "execution_count": 19,
   "metadata": {},
   "outputs": [],
   "source": [
    "competitions = [{'name':'France', 'column_name':'🇫🇷'},\n",
    "               {'name':'England', 'column_name':'🏴󠁧󠁢󠁥󠁮󠁧󠁿'},\n",
    "               {'name':'Germany', 'column_name':'🇩🇪'},\n",
    "               {'name':'Italy', 'column_name':'🇮🇹'},\n",
    "               {'name':'Spain', 'column_name':'🇪🇸'}]\n",
    "all_competitions=[]\n",
    "for competition in competitions:\n",
    "    events = pd.read_json('events/events_{}.json'.format(competition['name'])).set_index('id')\n",
    "    matches = pd.read_json('matches/matches_{}.json'.format(competition['name'])).set_index('wyId')\n",
    "    players = pd.read_json('players.json').set_index('wyId')\n",
    "    freq = get_frequency_of_position_changes(matches)\n",
    "    all_data = pd.concat([get_jensen_breaks(matches),freq],axis=1, keys=['jensen','freq'])\n",
    "    all_data['League']=competition['column_name']\n",
    "    all_competitions.append(all_data)"
   ]
  },
  {
   "cell_type": "code",
   "execution_count": 20,
   "metadata": {},
   "outputs": [],
   "source": [
    "#t=25\n",
    "#exagerate_freq = freq.apply(lambda x: np.exp(x/t))\n",
    "#exagerate_freq.plot.barh()"
   ]
  },
  {
   "cell_type": "code",
   "execution_count": 21,
   "metadata": {},
   "outputs": [],
   "source": [
    "#all_competitions\n",
    "final_data = pd.concat(all_competitions)"
   ]
  },
  {
   "cell_type": "code",
   "execution_count": 22,
   "metadata": {
    "scrolled": true
   },
   "outputs": [],
   "source": [
    "final_data.index.name='position'\n",
    "final_data = final_data.reset_index()"
   ]
  },
  {
   "cell_type": "code",
   "execution_count": 23,
   "metadata": {},
   "outputs": [],
   "source": [
    "import altair as alt\n",
    "import numpy as np\n",
    "import pandas as pd"
   ]
  },
  {
   "cell_type": "code",
   "execution_count": 24,
   "metadata": {},
   "outputs": [
    {
     "data": {
      "text/html": [
       "<div>\n",
       "<style scoped>\n",
       "    .dataframe tbody tr th:only-of-type {\n",
       "        vertical-align: middle;\n",
       "    }\n",
       "\n",
       "    .dataframe tbody tr th {\n",
       "        vertical-align: top;\n",
       "    }\n",
       "\n",
       "    .dataframe thead th {\n",
       "        text-align: right;\n",
       "    }\n",
       "</style>\n",
       "<table border=\"1\" class=\"dataframe\">\n",
       "  <thead>\n",
       "    <tr style=\"text-align: right;\">\n",
       "      <th></th>\n",
       "      <th>position</th>\n",
       "      <th>jensen</th>\n",
       "      <th>freq</th>\n",
       "      <th>League</th>\n",
       "    </tr>\n",
       "  </thead>\n",
       "  <tbody>\n",
       "    <tr>\n",
       "      <th>0</th>\n",
       "      <td>1</td>\n",
       "      <td>1</td>\n",
       "      <td>2</td>\n",
       "      <td>🇫🇷</td>\n",
       "    </tr>\n",
       "    <tr>\n",
       "      <th>1</th>\n",
       "      <td>2</td>\n",
       "      <td>2</td>\n",
       "      <td>10</td>\n",
       "      <td>🇫🇷</td>\n",
       "    </tr>\n",
       "    <tr>\n",
       "      <th>2</th>\n",
       "      <td>3</td>\n",
       "      <td>2</td>\n",
       "      <td>15</td>\n",
       "      <td>🇫🇷</td>\n",
       "    </tr>\n",
       "    <tr>\n",
       "      <th>3</th>\n",
       "      <td>4</td>\n",
       "      <td>2</td>\n",
       "      <td>13</td>\n",
       "      <td>🇫🇷</td>\n",
       "    </tr>\n",
       "    <tr>\n",
       "      <th>4</th>\n",
       "      <td>5</td>\n",
       "      <td>3</td>\n",
       "      <td>16</td>\n",
       "      <td>🇫🇷</td>\n",
       "    </tr>\n",
       "  </tbody>\n",
       "</table>\n",
       "</div>"
      ],
      "text/plain": [
       "   position jensen  freq League\n",
       "0         1      1     2     🇫🇷\n",
       "1         2      2    10     🇫🇷\n",
       "2         3      2    15     🇫🇷\n",
       "3         4      2    13     🇫🇷\n",
       "4         5      3    16     🇫🇷"
      ]
     },
     "execution_count": 24,
     "metadata": {},
     "output_type": "execute_result"
    }
   ],
   "source": [
    "final_data.head()"
   ]
  },
  {
   "cell_type": "code",
   "execution_count": 25,
   "metadata": {},
   "outputs": [],
   "source": [
    "added = None\n",
    "all_leagues = final_data['League'].unique()\n",
    "for i,league in enumerate(all_leagues):\n",
    "    league_data = final_data[final_data['League']==league]\n",
    "    y1=alt.Y('position:O', title='')\n",
    "    if i!=0:\n",
    "        y1 = alt.Y('position:O', title='', axis=None)\n",
    "    a = alt.Chart(league_data).mark_bar().encode(    \n",
    "        y=y1,\n",
    "        color=alt.Color('freq:Q', scale=alt.Scale(scheme=\"purples\",domain=[np.min(final_data['freq']),np.max(final_data['freq'])]),legend=None)    \n",
    "    ).properties(\n",
    "        width=20,\n",
    "        height=400,\n",
    "        title=league\n",
    "    )\n",
    "    b = alt.Chart(league_data).mark_bar().encode(\n",
    "        y=alt.Y('position:O', title='', axis=None),\n",
    "        color=alt.Color('jensen:O', scale=alt.Scale(scheme=\"redyellowgreen\"),legend=None,sort=\"descending\")    \n",
    "    ).properties(\n",
    "        width=20,\n",
    "        height=400\n",
    "    )\n",
    "    ab = alt.hconcat(a,b,spacing=3)\n",
    "    if not added:\n",
    "        added=ab\n",
    "    else:\n",
    "        added=alt.hconcat(added,ab,spacing=15)"
   ]
  },
  {
   "cell_type": "code",
   "execution_count": 26,
   "metadata": {},
   "outputs": [
    {
     "data": {
      "application/vnd.vegalite.v3+json": {
       "$schema": "https://vega.github.io/schema/vega-lite/v3.4.0.json",
       "config": {
        "mark": {
         "tooltip": null
        },
        "view": {
         "height": 300,
         "width": 400
        }
       },
       "datasets": {
        "data-67eb5b0f9cd8f166f707bb8dd17dc224": [
         {
          "League": "🇪🇸",
          "freq": 2,
          "jensen": 1,
          "position": 1
         },
         {
          "League": "🇪🇸",
          "freq": 7,
          "jensen": 1,
          "position": 2
         },
         {
          "League": "🇪🇸",
          "freq": 13,
          "jensen": 1,
          "position": 3
         },
         {
          "League": "🇪🇸",
          "freq": 10,
          "jensen": 1,
          "position": 4
         },
         {
          "League": "🇪🇸",
          "freq": 18,
          "jensen": 2,
          "position": 5
         },
         {
          "League": "🇪🇸",
          "freq": 21,
          "jensen": 2,
          "position": 6
         },
         {
          "League": "🇪🇸",
          "freq": 24,
          "jensen": 2,
          "position": 7
         },
         {
          "League": "🇪🇸",
          "freq": 25,
          "jensen": 2,
          "position": 8
         },
         {
          "League": "🇪🇸",
          "freq": 27,
          "jensen": 3,
          "position": 9
         },
         {
          "League": "🇪🇸",
          "freq": 34,
          "jensen": 3,
          "position": 10
         },
         {
          "League": "🇪🇸",
          "freq": 31,
          "jensen": 3,
          "position": 11
         },
         {
          "League": "🇪🇸",
          "freq": 31,
          "jensen": 3,
          "position": 12
         },
         {
          "League": "🇪🇸",
          "freq": 31,
          "jensen": 3,
          "position": 13
         },
         {
          "League": "🇪🇸",
          "freq": 32,
          "jensen": 3,
          "position": 14
         },
         {
          "League": "🇪🇸",
          "freq": 28,
          "jensen": 3,
          "position": 15
         },
         {
          "League": "🇪🇸",
          "freq": 22,
          "jensen": 3,
          "position": 16
         },
         {
          "League": "🇪🇸",
          "freq": 14,
          "jensen": 3,
          "position": 17
         },
         {
          "League": "🇪🇸",
          "freq": 14,
          "jensen": 4,
          "position": 18
         },
         {
          "League": "🇪🇸",
          "freq": 12,
          "jensen": 4,
          "position": 19
         },
         {
          "League": "🇪🇸",
          "freq": 10,
          "jensen": 4,
          "position": 20
         }
        ],
        "data-68cc76254a425f652ecb90e4c5fdde94": [
         {
          "League": "🇮🇹",
          "freq": 6,
          "jensen": 1,
          "position": 1
         },
         {
          "League": "🇮🇹",
          "freq": 11,
          "jensen": 1,
          "position": 2
         },
         {
          "League": "🇮🇹",
          "freq": 14,
          "jensen": 2,
          "position": 3
         },
         {
          "League": "🇮🇹",
          "freq": 15,
          "jensen": 2,
          "position": 4
         },
         {
          "League": "🇮🇹",
          "freq": 15,
          "jensen": 2,
          "position": 5
         },
         {
          "League": "🇮🇹",
          "freq": 12,
          "jensen": 3,
          "position": 6
         },
         {
          "League": "🇮🇹",
          "freq": 22,
          "jensen": 3,
          "position": 7
         },
         {
          "League": "🇮🇹",
          "freq": 23,
          "jensen": 3,
          "position": 8
         },
         {
          "League": "🇮🇹",
          "freq": 24,
          "jensen": 3,
          "position": 9
         },
         {
          "League": "🇮🇹",
          "freq": 23,
          "jensen": 3,
          "position": 10
         },
         {
          "League": "🇮🇹",
          "freq": 22,
          "jensen": 4,
          "position": 11
         },
         {
          "League": "🇮🇹",
          "freq": 21,
          "jensen": 4,
          "position": 12
         },
         {
          "League": "🇮🇹",
          "freq": 18,
          "jensen": 4,
          "position": 13
         },
         {
          "League": "🇮🇹",
          "freq": 24,
          "jensen": 4,
          "position": 14
         },
         {
          "League": "🇮🇹",
          "freq": 29,
          "jensen": 4,
          "position": 15
         },
         {
          "League": "🇮🇹",
          "freq": 26,
          "jensen": 4,
          "position": 16
         },
         {
          "League": "🇮🇹",
          "freq": 24,
          "jensen": 4,
          "position": 17
         },
         {
          "League": "🇮🇹",
          "freq": 20,
          "jensen": 4,
          "position": 18
         },
         {
          "League": "🇮🇹",
          "freq": 9,
          "jensen": 4,
          "position": 19
         },
         {
          "League": "🇮🇹",
          "freq": 1,
          "jensen": 4,
          "position": 20
         }
        ],
        "data-84c6efe62e404bb053a480f2e6acbe6b": [
         {
          "League": "🇩🇪",
          "freq": 3,
          "jensen": 1,
          "position": 1
         },
         {
          "League": "🇩🇪",
          "freq": 15,
          "jensen": 2,
          "position": 2
         },
         {
          "League": "🇩🇪",
          "freq": 22,
          "jensen": 2,
          "position": 3
         },
         {
          "League": "🇩🇪",
          "freq": 29,
          "jensen": 2,
          "position": 4
         },
         {
          "League": "🇩🇪",
          "freq": 27,
          "jensen": 2,
          "position": 5
         },
         {
          "League": "🇩🇪",
          "freq": 25,
          "jensen": 2,
          "position": 6
         },
         {
          "League": "🇩🇪",
          "freq": 22,
          "jensen": 2,
          "position": 7
         },
         {
          "League": "🇩🇪",
          "freq": 28,
          "jensen": 2,
          "position": 8
         },
         {
          "League": "🇩🇪",
          "freq": 25,
          "jensen": 3,
          "position": 9
         },
         {
          "League": "🇩🇪",
          "freq": 21,
          "jensen": 3,
          "position": 10
         },
         {
          "League": "🇩🇪",
          "freq": 22,
          "jensen": 3,
          "position": 11
         },
         {
          "League": "🇩🇪",
          "freq": 23,
          "jensen": 3,
          "position": 12
         },
         {
          "League": "🇩🇪",
          "freq": 19,
          "jensen": 3,
          "position": 13
         },
         {
          "League": "🇩🇪",
          "freq": 20,
          "jensen": 3,
          "position": 14
         },
         {
          "League": "🇩🇪",
          "freq": 17,
          "jensen": 3,
          "position": 15
         },
         {
          "League": "🇩🇪",
          "freq": 15,
          "jensen": 4,
          "position": 16
         },
         {
          "League": "🇩🇪",
          "freq": 9,
          "jensen": 4,
          "position": 17
         },
         {
          "League": "🇩🇪",
          "freq": 4,
          "jensen": 4,
          "position": 18
         }
        ],
        "data-b4a293b56f8e65f262618ac62d16022d": [
         {
          "League": "🏴󠁧󠁢󠁥󠁮󠁧󠁿",
          "freq": 3,
          "jensen": 1,
          "position": 1
         },
         {
          "League": "🏴󠁧󠁢󠁥󠁮󠁧󠁿",
          "freq": 7,
          "jensen": 2,
          "position": 2
         },
         {
          "League": "🏴󠁧󠁢󠁥󠁮󠁧󠁿",
          "freq": 12,
          "jensen": 2,
          "position": 3
         },
         {
          "League": "🏴󠁧󠁢󠁥󠁮󠁧󠁿",
          "freq": 18,
          "jensen": 2,
          "position": 4
         },
         {
          "League": "🏴󠁧󠁢󠁥󠁮󠁧󠁿",
          "freq": 16,
          "jensen": 2,
          "position": 5
         },
         {
          "League": "🏴󠁧󠁢󠁥󠁮󠁧󠁿",
          "freq": 15,
          "jensen": 2,
          "position": 6
         },
         {
          "League": "🏴󠁧󠁢󠁥󠁮󠁧󠁿",
          "freq": 19,
          "jensen": 3,
          "position": 7
         },
         {
          "League": "🏴󠁧󠁢󠁥󠁮󠁧󠁿",
          "freq": 16,
          "jensen": 3,
          "position": 8
         },
         {
          "League": "🏴󠁧󠁢󠁥󠁮󠁧󠁿",
          "freq": 19,
          "jensen": 3,
          "position": 9
         },
         {
          "League": "🏴󠁧󠁢󠁥󠁮󠁧󠁿",
          "freq": 18,
          "jensen": 3,
          "position": 10
         },
         {
          "League": "🏴󠁧󠁢󠁥󠁮󠁧󠁿",
          "freq": 23,
          "jensen": 3,
          "position": 11
         },
         {
          "League": "🏴󠁧󠁢󠁥󠁮󠁧󠁿",
          "freq": 28,
          "jensen": 3,
          "position": 12
         },
         {
          "League": "🏴󠁧󠁢󠁥󠁮󠁧󠁿",
          "freq": 28,
          "jensen": 3,
          "position": 13
         },
         {
          "League": "🏴󠁧󠁢󠁥󠁮󠁧󠁿",
          "freq": 26,
          "jensen": 3,
          "position": 14
         },
         {
          "League": "🏴󠁧󠁢󠁥󠁮󠁧󠁿",
          "freq": 27,
          "jensen": 3,
          "position": 15
         },
         {
          "League": "🏴󠁧󠁢󠁥󠁮󠁧󠁿",
          "freq": 31,
          "jensen": 4,
          "position": 16
         },
         {
          "League": "🏴󠁧󠁢󠁥󠁮󠁧󠁿",
          "freq": 25,
          "jensen": 4,
          "position": 17
         },
         {
          "League": "🏴󠁧󠁢󠁥󠁮󠁧󠁿",
          "freq": 24,
          "jensen": 4,
          "position": 18
         },
         {
          "League": "🏴󠁧󠁢󠁥󠁮󠁧󠁿",
          "freq": 17,
          "jensen": 4,
          "position": 19
         },
         {
          "League": "🏴󠁧󠁢󠁥󠁮󠁧󠁿",
          "freq": 10,
          "jensen": 4,
          "position": 20
         }
        ],
        "data-d268475f13baff97953d13724c2e84a2": [
         {
          "League": "🇫🇷",
          "freq": 2,
          "jensen": 1,
          "position": 1
         },
         {
          "League": "🇫🇷",
          "freq": 10,
          "jensen": 2,
          "position": 2
         },
         {
          "League": "🇫🇷",
          "freq": 15,
          "jensen": 2,
          "position": 3
         },
         {
          "League": "🇫🇷",
          "freq": 13,
          "jensen": 2,
          "position": 4
         },
         {
          "League": "🇫🇷",
          "freq": 16,
          "jensen": 3,
          "position": 5
         },
         {
          "League": "🇫🇷",
          "freq": 22,
          "jensen": 3,
          "position": 6
         },
         {
          "League": "🇫🇷",
          "freq": 29,
          "jensen": 3,
          "position": 7
         },
         {
          "League": "🇫🇷",
          "freq": 28,
          "jensen": 3,
          "position": 8
         },
         {
          "League": "🇫🇷",
          "freq": 29,
          "jensen": 3,
          "position": 9
         },
         {
          "League": "🇫🇷",
          "freq": 29,
          "jensen": 3,
          "position": 10
         },
         {
          "League": "🇫🇷",
          "freq": 33,
          "jensen": 3,
          "position": 11
         },
         {
          "League": "🇫🇷",
          "freq": 30,
          "jensen": 3,
          "position": 12
         },
         {
          "League": "🇫🇷",
          "freq": 29,
          "jensen": 3,
          "position": 13
         },
         {
          "League": "🇫🇷",
          "freq": 27,
          "jensen": 4,
          "position": 14
         },
         {
          "League": "🇫🇷",
          "freq": 31,
          "jensen": 4,
          "position": 15
         },
         {
          "League": "🇫🇷",
          "freq": 26,
          "jensen": 4,
          "position": 16
         },
         {
          "League": "🇫🇷",
          "freq": 30,
          "jensen": 4,
          "position": 17
         },
         {
          "League": "🇫🇷",
          "freq": 26,
          "jensen": 4,
          "position": 18
         },
         {
          "League": "🇫🇷",
          "freq": 14,
          "jensen": 4,
          "position": 19
         },
         {
          "League": "🇫🇷",
          "freq": 3,
          "jensen": 4,
          "position": 20
         }
        ]
       },
       "hconcat": [
        {
         "hconcat": [
          {
           "hconcat": [
            {
             "hconcat": [
              {
               "data": {
                "name": "data-d268475f13baff97953d13724c2e84a2"
               },
               "hconcat": [
                {
                 "encoding": {
                  "color": {
                   "field": "freq",
                   "legend": null,
                   "scale": {
                    "domain": [
                     1,
                     34
                    ],
                    "scheme": "purples"
                   },
                   "type": "quantitative"
                  },
                  "y": {
                   "field": "position",
                   "title": "",
                   "type": "ordinal"
                  }
                 },
                 "height": 400,
                 "mark": "bar",
                 "title": "🇫🇷",
                 "width": 20
                },
                {
                 "encoding": {
                  "color": {
                   "field": "jensen",
                   "legend": null,
                   "scale": {
                    "scheme": "redyellowgreen"
                   },
                   "sort": "descending",
                   "type": "ordinal"
                  },
                  "y": {
                   "axis": null,
                   "field": "position",
                   "title": "",
                   "type": "ordinal"
                  }
                 },
                 "height": 400,
                 "mark": "bar",
                 "width": 20
                }
               ],
               "spacing": 3
              },
              {
               "data": {
                "name": "data-b4a293b56f8e65f262618ac62d16022d"
               },
               "hconcat": [
                {
                 "encoding": {
                  "color": {
                   "field": "freq",
                   "legend": null,
                   "scale": {
                    "domain": [
                     1,
                     34
                    ],
                    "scheme": "purples"
                   },
                   "type": "quantitative"
                  },
                  "y": {
                   "axis": null,
                   "field": "position",
                   "title": "",
                   "type": "ordinal"
                  }
                 },
                 "height": 400,
                 "mark": "bar",
                 "title": "🏴󠁧󠁢󠁥󠁮󠁧󠁿",
                 "width": 20
                },
                {
                 "encoding": {
                  "color": {
                   "field": "jensen",
                   "legend": null,
                   "scale": {
                    "scheme": "redyellowgreen"
                   },
                   "sort": "descending",
                   "type": "ordinal"
                  },
                  "y": {
                   "axis": null,
                   "field": "position",
                   "title": "",
                   "type": "ordinal"
                  }
                 },
                 "height": 400,
                 "mark": "bar",
                 "width": 20
                }
               ],
               "spacing": 3
              }
             ],
             "spacing": 15
            },
            {
             "data": {
              "name": "data-84c6efe62e404bb053a480f2e6acbe6b"
             },
             "hconcat": [
              {
               "encoding": {
                "color": {
                 "field": "freq",
                 "legend": null,
                 "scale": {
                  "domain": [
                   1,
                   34
                  ],
                  "scheme": "purples"
                 },
                 "type": "quantitative"
                },
                "y": {
                 "axis": null,
                 "field": "position",
                 "title": "",
                 "type": "ordinal"
                }
               },
               "height": 400,
               "mark": "bar",
               "title": "🇩🇪",
               "width": 20
              },
              {
               "encoding": {
                "color": {
                 "field": "jensen",
                 "legend": null,
                 "scale": {
                  "scheme": "redyellowgreen"
                 },
                 "sort": "descending",
                 "type": "ordinal"
                },
                "y": {
                 "axis": null,
                 "field": "position",
                 "title": "",
                 "type": "ordinal"
                }
               },
               "height": 400,
               "mark": "bar",
               "width": 20
              }
             ],
             "spacing": 3
            }
           ],
           "spacing": 15
          },
          {
           "data": {
            "name": "data-68cc76254a425f652ecb90e4c5fdde94"
           },
           "hconcat": [
            {
             "encoding": {
              "color": {
               "field": "freq",
               "legend": null,
               "scale": {
                "domain": [
                 1,
                 34
                ],
                "scheme": "purples"
               },
               "type": "quantitative"
              },
              "y": {
               "axis": null,
               "field": "position",
               "title": "",
               "type": "ordinal"
              }
             },
             "height": 400,
             "mark": "bar",
             "title": "🇮🇹",
             "width": 20
            },
            {
             "encoding": {
              "color": {
               "field": "jensen",
               "legend": null,
               "scale": {
                "scheme": "redyellowgreen"
               },
               "sort": "descending",
               "type": "ordinal"
              },
              "y": {
               "axis": null,
               "field": "position",
               "title": "",
               "type": "ordinal"
              }
             },
             "height": 400,
             "mark": "bar",
             "width": 20
            }
           ],
           "spacing": 3
          }
         ],
         "spacing": 15
        },
        {
         "data": {
          "name": "data-67eb5b0f9cd8f166f707bb8dd17dc224"
         },
         "hconcat": [
          {
           "encoding": {
            "color": {
             "field": "freq",
             "legend": null,
             "scale": {
              "domain": [
               1,
               34
              ],
              "scheme": "purples"
             },
             "type": "quantitative"
            },
            "y": {
             "axis": null,
             "field": "position",
             "title": "",
             "type": "ordinal"
            }
           },
           "height": 400,
           "mark": "bar",
           "title": "🇪🇸",
           "width": 20
          },
          {
           "encoding": {
            "color": {
             "field": "jensen",
             "legend": null,
             "scale": {
              "scheme": "redyellowgreen"
             },
             "sort": "descending",
             "type": "ordinal"
            },
            "y": {
             "axis": null,
             "field": "position",
             "title": "",
             "type": "ordinal"
            }
           },
           "height": 400,
           "mark": "bar",
           "width": 20
          }
         ],
         "spacing": 3
        }
       ],
       "spacing": 15
      },
      "image/png": "[encoded data removed]",
      "text/plain": [
       "<VegaLite 3 object>\n",
       "\n",
       "If you see this message, it means the renderer has not been properly enabled\n",
       "for the frontend that you are using. For more information, see\n",
       "https://altair-viz.github.io/user_guide/troubleshooting.html\n"
      ]
     },
     "execution_count": 26,
     "metadata": {},
     "output_type": "execute_result"
    }
   ],
   "source": [
    "added"
   ]
  },
  {
   "cell_type": "code",
   "execution_count": null,
   "metadata": {},
   "outputs": [],
   "source": []
  },
  {
   "cell_type": "code",
   "execution_count": 27,
   "metadata": {},
   "outputs": [
    {
     "data": {
      "text/plain": [
       "Resolve({\n",
       "  scale: LegendResolveMap({\n",
       "    color: ResolveMode('independent')\n",
       "  })\n",
       "})"
      ]
     },
     "execution_count": 27,
     "metadata": {},
     "output_type": "execute_result"
    }
   ],
   "source": [
    "alt.Resolve(scale=alt.LegendResolveMap(color=alt.ResolveMode('independent')))"
   ]
  },
  {
   "cell_type": "code",
   "execution_count": 339,
   "metadata": {},
   "outputs": [
    {
     "data": {
      "application/vnd.vegalite.v3+json": {
       "$schema": "https://vega.github.io/schema/vega-lite/v3.4.0.json",
       "config": {
        "mark": {
         "tooltip": null
        },
        "view": {
         "height": 300,
         "width": 400
        }
       },
       "data": {
        "name": "data-67eb5b0f9cd8f166f707bb8dd17dc224"
       },
       "datasets": {
        "data-67eb5b0f9cd8f166f707bb8dd17dc224": [
         {
          "League": "🇪🇸",
          "freq": 2,
          "jensen": 1,
          "position": 1
         },
         {
          "League": "🇪🇸",
          "freq": 7,
          "jensen": 1,
          "position": 2
         },
         {
          "League": "🇪🇸",
          "freq": 13,
          "jensen": 1,
          "position": 3
         },
         {
          "League": "🇪🇸",
          "freq": 10,
          "jensen": 1,
          "position": 4
         },
         {
          "League": "🇪🇸",
          "freq": 18,
          "jensen": 2,
          "position": 5
         },
         {
          "League": "🇪🇸",
          "freq": 21,
          "jensen": 2,
          "position": 6
         },
         {
          "League": "🇪🇸",
          "freq": 24,
          "jensen": 2,
          "position": 7
         },
         {
          "League": "🇪🇸",
          "freq": 25,
          "jensen": 2,
          "position": 8
         },
         {
          "League": "🇪🇸",
          "freq": 27,
          "jensen": 3,
          "position": 9
         },
         {
          "League": "🇪🇸",
          "freq": 34,
          "jensen": 3,
          "position": 10
         },
         {
          "League": "🇪🇸",
          "freq": 31,
          "jensen": 3,
          "position": 11
         },
         {
          "League": "🇪🇸",
          "freq": 31,
          "jensen": 3,
          "position": 12
         },
         {
          "League": "🇪🇸",
          "freq": 31,
          "jensen": 3,
          "position": 13
         },
         {
          "League": "🇪🇸",
          "freq": 32,
          "jensen": 3,
          "position": 14
         },
         {
          "League": "🇪🇸",
          "freq": 28,
          "jensen": 3,
          "position": 15
         },
         {
          "League": "🇪🇸",
          "freq": 22,
          "jensen": 3,
          "position": 16
         },
         {
          "League": "🇪🇸",
          "freq": 14,
          "jensen": 3,
          "position": 17
         },
         {
          "League": "🇪🇸",
          "freq": 14,
          "jensen": 4,
          "position": 18
         },
         {
          "League": "🇪🇸",
          "freq": 12,
          "jensen": 4,
          "position": 19
         },
         {
          "League": "🇪🇸",
          "freq": 10,
          "jensen": 4,
          "position": 20
         }
        ]
       },
       "hconcat": [
        {
         "hconcat": [
          {
           "encoding": {
            "color": {
             "field": "freq",
             "legend": null,
             "scale": {
              "scheme": "purples"
             },
             "type": "quantitative"
            },
            "y": {
             "axis": null,
             "field": "position",
             "title": "",
             "type": "ordinal"
            }
           },
           "height": 400,
           "mark": "bar",
           "title": "🇪🇸",
           "width": 20
          },
          {
           "encoding": {
            "color": {
             "field": "freq",
             "legend": null,
             "scale": {
              "scheme": "purples"
             },
             "type": "quantitative"
            },
            "y": {
             "axis": null,
             "field": "position",
             "title": "",
             "type": "ordinal"
            }
           },
           "height": 400,
           "mark": "bar",
           "title": "🇪🇸",
           "width": 20
          }
         ],
         "spacing": 1
        },
        {
         "encoding": {
          "color": {
           "field": "freq",
           "legend": null,
           "scale": {
            "scheme": "purples"
           },
           "type": "quantitative"
          },
          "y": {
           "axis": null,
           "field": "position",
           "title": "",
           "type": "ordinal"
          }
         },
         "height": 400,
         "mark": "bar",
         "title": "🇪🇸",
         "width": 20
        }
       ],
       "spacing": 10
      },
      "image/png": "[encoded data removed]",
      "text/plain": [
       "<VegaLite 3 object>\n",
       "\n",
       "If you see this message, it means the renderer has not been properly enabled\n",
       "for the frontend that you are using. For more information, see\n",
       "https://altair-viz.github.io/user_guide/troubleshooting.html\n"
      ]
     },
     "execution_count": 339,
     "metadata": {},
     "output_type": "execute_result"
    }
   ],
   "source": [
    "alt.hconcat(alt.hconcat(a,a, spacing=1),a,spacing=10)"
   ]
  },
  {
   "cell_type": "code",
   "execution_count": 317,
   "metadata": {},
   "outputs": [
    {
     "ename": "AttributeError",
     "evalue": "'function' object has no attribute 'padding'",
     "output_type": "error",
     "traceback": [
      "\u001b[1;31m---------------------------------------------------------------------------\u001b[0m",
      "\u001b[1;31mAttributeError\u001b[0m                            Traceback (most recent call last)",
      "\u001b[1;32m<ipython-input-317-fce2faa7bb76>\u001b[0m in \u001b[0;36m<module>\u001b[1;34m\u001b[0m\n\u001b[1;32m----> 1\u001b[1;33m \u001b[0malt\u001b[0m\u001b[1;33m.\u001b[0m\u001b[0mhconcat\u001b[0m\u001b[1;33m.\u001b[0m\u001b[0mpadding\u001b[0m\u001b[1;33m\u001b[0m\u001b[1;33m\u001b[0m\u001b[0m\n\u001b[0m",
      "\u001b[1;31mAttributeError\u001b[0m: 'function' object has no attribute 'padding'"
     ]
    }
   ],
   "source": [
    "alt.hconcat.padding"
   ]
  },
  {
   "cell_type": "code",
   "execution_count": 313,
   "metadata": {},
   "outputs": [
    {
     "data": {
      "application/vnd.vegalite.v3+json": {
       "$schema": "https://vega.github.io/schema/vega-lite/v3.4.0.json",
       "config": {
        "mark": {
         "tooltip": null
        },
        "view": {
         "height": 300,
         "width": 400
        }
       },
       "data": {
        "name": "data-67eb5b0f9cd8f166f707bb8dd17dc224"
       },
       "datasets": {
        "data-67eb5b0f9cd8f166f707bb8dd17dc224": [
         {
          "League": "🇪🇸",
          "freq": 2,
          "jensen": 1,
          "position": 1
         },
         {
          "League": "🇪🇸",
          "freq": 7,
          "jensen": 1,
          "position": 2
         },
         {
          "League": "🇪🇸",
          "freq": 13,
          "jensen": 1,
          "position": 3
         },
         {
          "League": "🇪🇸",
          "freq": 10,
          "jensen": 1,
          "position": 4
         },
         {
          "League": "🇪🇸",
          "freq": 18,
          "jensen": 2,
          "position": 5
         },
         {
          "League": "🇪🇸",
          "freq": 21,
          "jensen": 2,
          "position": 6
         },
         {
          "League": "🇪🇸",
          "freq": 24,
          "jensen": 2,
          "position": 7
         },
         {
          "League": "🇪🇸",
          "freq": 25,
          "jensen": 2,
          "position": 8
         },
         {
          "League": "🇪🇸",
          "freq": 27,
          "jensen": 3,
          "position": 9
         },
         {
          "League": "🇪🇸",
          "freq": 34,
          "jensen": 3,
          "position": 10
         },
         {
          "League": "🇪🇸",
          "freq": 31,
          "jensen": 3,
          "position": 11
         },
         {
          "League": "🇪🇸",
          "freq": 31,
          "jensen": 3,
          "position": 12
         },
         {
          "League": "🇪🇸",
          "freq": 31,
          "jensen": 3,
          "position": 13
         },
         {
          "League": "🇪🇸",
          "freq": 32,
          "jensen": 3,
          "position": 14
         },
         {
          "League": "🇪🇸",
          "freq": 28,
          "jensen": 3,
          "position": 15
         },
         {
          "League": "🇪🇸",
          "freq": 22,
          "jensen": 3,
          "position": 16
         },
         {
          "League": "🇪🇸",
          "freq": 14,
          "jensen": 3,
          "position": 17
         },
         {
          "League": "🇪🇸",
          "freq": 14,
          "jensen": 4,
          "position": 18
         },
         {
          "League": "🇪🇸",
          "freq": 12,
          "jensen": 4,
          "position": 19
         },
         {
          "League": "🇪🇸",
          "freq": 10,
          "jensen": 4,
          "position": 20
         }
        ]
       },
       "encoding": {
        "color": {
         "field": "freq",
         "legend": null,
         "scale": {
          "scheme": "purples"
         },
         "type": "quantitative"
        },
        "y": {
         "axis": null,
         "field": "position",
         "title": "",
         "type": "ordinal"
        }
       },
       "height": 400,
       "mark": "bar",
       "padding": 5,
       "title": "🇪🇸",
       "width": 20
      },
      "image/png": "[encoded data removed]",
      "text/plain": [
       "<VegaLite 3 object>\n",
       "\n",
       "If you see this message, it means the renderer has not been properly enabled\n",
       "for the frontend that you are using. For more information, see\n",
       "https://altair-viz.github.io/user_guide/troubleshooting.html\n"
      ]
     },
     "execution_count": 313,
     "metadata": {},
     "output_type": "execute_result"
    }
   ],
   "source": [
    "a.properties(padding=5)"
   ]
  },
  {
   "cell_type": "code",
   "execution_count": 167,
   "metadata": {},
   "outputs": [
    {
     "data": {
      "application/vnd.vegalite.v3+json": {
       "$schema": "https://vega.github.io/schema/vega-lite/v3.4.0.json",
       "config": {
        "mark": {
         "tooltip": null
        },
        "view": {
         "height": 300,
         "width": 400
        }
       },
       "data": {
        "name": "data-b4f7585f1bc81dbfed5049da869b9604"
       },
       "datasets": {
        "data-b4f7585f1bc81dbfed5049da869b9604": [
         {
          "League": "🇫🇷",
          "freq": 2,
          "jensen": 1,
          "position": 1
         },
         {
          "League": "🇫🇷",
          "freq": 10,
          "jensen": 2,
          "position": 2
         },
         {
          "League": "🇫🇷",
          "freq": 15,
          "jensen": 2,
          "position": 3
         },
         {
          "League": "🇫🇷",
          "freq": 13,
          "jensen": 2,
          "position": 4
         },
         {
          "League": "🇫🇷",
          "freq": 16,
          "jensen": 3,
          "position": 5
         },
         {
          "League": "🇫🇷",
          "freq": 22,
          "jensen": 3,
          "position": 6
         },
         {
          "League": "🇫🇷",
          "freq": 29,
          "jensen": 3,
          "position": 7
         },
         {
          "League": "🇫🇷",
          "freq": 28,
          "jensen": 3,
          "position": 8
         },
         {
          "League": "🇫🇷",
          "freq": 29,
          "jensen": 3,
          "position": 9
         },
         {
          "League": "🇫🇷",
          "freq": 29,
          "jensen": 3,
          "position": 10
         },
         {
          "League": "🇫🇷",
          "freq": 33,
          "jensen": 3,
          "position": 11
         },
         {
          "League": "🇫🇷",
          "freq": 30,
          "jensen": 3,
          "position": 12
         },
         {
          "League": "🇫🇷",
          "freq": 29,
          "jensen": 3,
          "position": 13
         },
         {
          "League": "🇫🇷",
          "freq": 27,
          "jensen": 4,
          "position": 14
         },
         {
          "League": "🇫🇷",
          "freq": 31,
          "jensen": 4,
          "position": 15
         },
         {
          "League": "🇫🇷",
          "freq": 26,
          "jensen": 4,
          "position": 16
         },
         {
          "League": "🇫🇷",
          "freq": 30,
          "jensen": 4,
          "position": 17
         },
         {
          "League": "🇫🇷",
          "freq": 26,
          "jensen": 4,
          "position": 18
         },
         {
          "League": "🇫🇷",
          "freq": 14,
          "jensen": 4,
          "position": 19
         },
         {
          "League": "🇫🇷",
          "freq": 3,
          "jensen": 4,
          "position": 20
         },
         {
          "League": "🏴󠁧󠁢󠁥󠁮󠁧󠁿",
          "freq": 3,
          "jensen": 1,
          "position": 1
         },
         {
          "League": "🏴󠁧󠁢󠁥󠁮󠁧󠁿",
          "freq": 7,
          "jensen": 2,
          "position": 2
         },
         {
          "League": "🏴󠁧󠁢󠁥󠁮󠁧󠁿",
          "freq": 12,
          "jensen": 2,
          "position": 3
         },
         {
          "League": "🏴󠁧󠁢󠁥󠁮󠁧󠁿",
          "freq": 18,
          "jensen": 2,
          "position": 4
         },
         {
          "League": "🏴󠁧󠁢󠁥󠁮󠁧󠁿",
          "freq": 16,
          "jensen": 2,
          "position": 5
         },
         {
          "League": "🏴󠁧󠁢󠁥󠁮󠁧󠁿",
          "freq": 15,
          "jensen": 2,
          "position": 6
         },
         {
          "League": "🏴󠁧󠁢󠁥󠁮󠁧󠁿",
          "freq": 19,
          "jensen": 3,
          "position": 7
         },
         {
          "League": "🏴󠁧󠁢󠁥󠁮󠁧󠁿",
          "freq": 16,
          "jensen": 3,
          "position": 8
         },
         {
          "League": "🏴󠁧󠁢󠁥󠁮󠁧󠁿",
          "freq": 19,
          "jensen": 3,
          "position": 9
         },
         {
          "League": "🏴󠁧󠁢󠁥󠁮󠁧󠁿",
          "freq": 18,
          "jensen": 3,
          "position": 10
         },
         {
          "League": "🏴󠁧󠁢󠁥󠁮󠁧󠁿",
          "freq": 23,
          "jensen": 3,
          "position": 11
         },
         {
          "League": "🏴󠁧󠁢󠁥󠁮󠁧󠁿",
          "freq": 28,
          "jensen": 3,
          "position": 12
         },
         {
          "League": "🏴󠁧󠁢󠁥󠁮󠁧󠁿",
          "freq": 28,
          "jensen": 3,
          "position": 13
         },
         {
          "League": "🏴󠁧󠁢󠁥󠁮󠁧󠁿",
          "freq": 26,
          "jensen": 3,
          "position": 14
         },
         {
          "League": "🏴󠁧󠁢󠁥󠁮󠁧󠁿",
          "freq": 27,
          "jensen": 3,
          "position": 15
         },
         {
          "League": "🏴󠁧󠁢󠁥󠁮󠁧󠁿",
          "freq": 31,
          "jensen": 4,
          "position": 16
         },
         {
          "League": "🏴󠁧󠁢󠁥󠁮󠁧󠁿",
          "freq": 25,
          "jensen": 4,
          "position": 17
         },
         {
          "League": "🏴󠁧󠁢󠁥󠁮󠁧󠁿",
          "freq": 24,
          "jensen": 4,
          "position": 18
         },
         {
          "League": "🏴󠁧󠁢󠁥󠁮󠁧󠁿",
          "freq": 17,
          "jensen": 4,
          "position": 19
         },
         {
          "League": "🏴󠁧󠁢󠁥󠁮󠁧󠁿",
          "freq": 10,
          "jensen": 4,
          "position": 20
         },
         {
          "League": "🇩🇪",
          "freq": 3,
          "jensen": 1,
          "position": 1
         },
         {
          "League": "🇩🇪",
          "freq": 15,
          "jensen": 2,
          "position": 2
         },
         {
          "League": "🇩🇪",
          "freq": 22,
          "jensen": 2,
          "position": 3
         },
         {
          "League": "🇩🇪",
          "freq": 29,
          "jensen": 2,
          "position": 4
         },
         {
          "League": "🇩🇪",
          "freq": 27,
          "jensen": 2,
          "position": 5
         },
         {
          "League": "🇩🇪",
          "freq": 25,
          "jensen": 2,
          "position": 6
         },
         {
          "League": "🇩🇪",
          "freq": 22,
          "jensen": 2,
          "position": 7
         },
         {
          "League": "🇩🇪",
          "freq": 28,
          "jensen": 2,
          "position": 8
         },
         {
          "League": "🇩🇪",
          "freq": 25,
          "jensen": 3,
          "position": 9
         },
         {
          "League": "🇩🇪",
          "freq": 21,
          "jensen": 3,
          "position": 10
         },
         {
          "League": "🇩🇪",
          "freq": 22,
          "jensen": 3,
          "position": 11
         },
         {
          "League": "🇩🇪",
          "freq": 23,
          "jensen": 3,
          "position": 12
         },
         {
          "League": "🇩🇪",
          "freq": 19,
          "jensen": 3,
          "position": 13
         },
         {
          "League": "🇩🇪",
          "freq": 20,
          "jensen": 3,
          "position": 14
         },
         {
          "League": "🇩🇪",
          "freq": 17,
          "jensen": 3,
          "position": 15
         },
         {
          "League": "🇩🇪",
          "freq": 15,
          "jensen": 4,
          "position": 16
         },
         {
          "League": "🇩🇪",
          "freq": 9,
          "jensen": 4,
          "position": 17
         },
         {
          "League": "🇩🇪",
          "freq": 4,
          "jensen": 4,
          "position": 18
         },
         {
          "League": "🇮🇹",
          "freq": 6,
          "jensen": 1,
          "position": 1
         },
         {
          "League": "🇮🇹",
          "freq": 11,
          "jensen": 1,
          "position": 2
         },
         {
          "League": "🇮🇹",
          "freq": 14,
          "jensen": 2,
          "position": 3
         },
         {
          "League": "🇮🇹",
          "freq": 15,
          "jensen": 2,
          "position": 4
         },
         {
          "League": "🇮🇹",
          "freq": 15,
          "jensen": 2,
          "position": 5
         },
         {
          "League": "🇮🇹",
          "freq": 12,
          "jensen": 3,
          "position": 6
         },
         {
          "League": "🇮🇹",
          "freq": 22,
          "jensen": 3,
          "position": 7
         },
         {
          "League": "🇮🇹",
          "freq": 23,
          "jensen": 3,
          "position": 8
         },
         {
          "League": "🇮🇹",
          "freq": 24,
          "jensen": 3,
          "position": 9
         },
         {
          "League": "🇮🇹",
          "freq": 23,
          "jensen": 3,
          "position": 10
         },
         {
          "League": "🇮🇹",
          "freq": 22,
          "jensen": 4,
          "position": 11
         },
         {
          "League": "🇮🇹",
          "freq": 21,
          "jensen": 4,
          "position": 12
         },
         {
          "League": "🇮🇹",
          "freq": 18,
          "jensen": 4,
          "position": 13
         },
         {
          "League": "🇮🇹",
          "freq": 24,
          "jensen": 4,
          "position": 14
         },
         {
          "League": "🇮🇹",
          "freq": 29,
          "jensen": 4,
          "position": 15
         },
         {
          "League": "🇮🇹",
          "freq": 26,
          "jensen": 4,
          "position": 16
         },
         {
          "League": "🇮🇹",
          "freq": 24,
          "jensen": 4,
          "position": 17
         },
         {
          "League": "🇮🇹",
          "freq": 20,
          "jensen": 4,
          "position": 18
         },
         {
          "League": "🇮🇹",
          "freq": 9,
          "jensen": 4,
          "position": 19
         },
         {
          "League": "🇮🇹",
          "freq": 1,
          "jensen": 4,
          "position": 20
         },
         {
          "League": "🇪🇸",
          "freq": 2,
          "jensen": 1,
          "position": 1
         },
         {
          "League": "🇪🇸",
          "freq": 7,
          "jensen": 1,
          "position": 2
         },
         {
          "League": "🇪🇸",
          "freq": 13,
          "jensen": 1,
          "position": 3
         },
         {
          "League": "🇪🇸",
          "freq": 10,
          "jensen": 1,
          "position": 4
         },
         {
          "League": "🇪🇸",
          "freq": 18,
          "jensen": 2,
          "position": 5
         },
         {
          "League": "🇪🇸",
          "freq": 21,
          "jensen": 2,
          "position": 6
         },
         {
          "League": "🇪🇸",
          "freq": 24,
          "jensen": 2,
          "position": 7
         },
         {
          "League": "🇪🇸",
          "freq": 25,
          "jensen": 2,
          "position": 8
         },
         {
          "League": "🇪🇸",
          "freq": 27,
          "jensen": 3,
          "position": 9
         },
         {
          "League": "🇪🇸",
          "freq": 34,
          "jensen": 3,
          "position": 10
         },
         {
          "League": "🇪🇸",
          "freq": 31,
          "jensen": 3,
          "position": 11
         },
         {
          "League": "🇪🇸",
          "freq": 31,
          "jensen": 3,
          "position": 12
         },
         {
          "League": "🇪🇸",
          "freq": 31,
          "jensen": 3,
          "position": 13
         },
         {
          "League": "🇪🇸",
          "freq": 32,
          "jensen": 3,
          "position": 14
         },
         {
          "League": "🇪🇸",
          "freq": 28,
          "jensen": 3,
          "position": 15
         },
         {
          "League": "🇪🇸",
          "freq": 22,
          "jensen": 3,
          "position": 16
         },
         {
          "League": "🇪🇸",
          "freq": 14,
          "jensen": 3,
          "position": 17
         },
         {
          "League": "🇪🇸",
          "freq": 14,
          "jensen": 4,
          "position": 18
         },
         {
          "League": "🇪🇸",
          "freq": 12,
          "jensen": 4,
          "position": 19
         },
         {
          "League": "🇪🇸",
          "freq": 10,
          "jensen": 4,
          "position": 20
         }
        ]
       },
       "encoding": {
        "color": {
         "field": "freq",
         "scale": {
          "scheme": "magma"
         },
         "type": "quantitative"
        },
        "x": {
         "field": "League",
         "type": "ordinal"
        },
        "y": {
         "field": "position",
         "type": "ordinal"
        }
       },
       "mark": "bar"
      },
      "image/png": "[encoded data removed]",
      "text/plain": [
       "<VegaLite 3 object>\n",
       "\n",
       "If you see this message, it means the renderer has not been properly enabled\n",
       "for the frontend that you are using. For more information, see\n",
       "https://altair-viz.github.io/user_guide/troubleshooting.html\n"
      ]
     },
     "execution_count": 167,
     "metadata": {},
     "output_type": "execute_result"
    }
   ],
   "source": [
    "#final_data['type']=pd.cut(final_data.index,6, labels=range(0,6))\n",
    "alt.Chart(final_data).mark_bar().encode(\n",
    "    x='League:O',\n",
    "    y='position:O',\n",
    "    color=alt.Color('freq:Q', scale=alt.Scale(scheme=\"magma\"))\n",
    "    #column='League:O'\n",
    ")"
   ]
  },
  {
   "cell_type": "code",
   "execution_count": 229,
   "metadata": {},
   "outputs": [
    {
     "data": {
      "text/plain": [
       "Color({\n",
       "  legend: None,\n",
       "  scale: Scale({\n",
       "    scheme: 'magma'\n",
       "  }),\n",
       "  shorthand: 'freq:Q',\n",
       "  sort: 'descending'\n",
       "})"
      ]
     },
     "execution_count": 229,
     "metadata": {},
     "output_type": "execute_result"
    }
   ],
   "source": [
    "colorEnc = alt.Color('freq:Q', scale=alt.Scale(scheme=\"magma\"),legend=None,sort=\"descending\")\n",
    "colorEnc"
   ]
  },
  {
   "cell_type": "code",
   "execution_count": 155,
   "metadata": {},
   "outputs": [],
   "source": [
    "b =alt.Chart(final_data).mark_bar().encode(\n",
    "    y='position:O',\n",
    "    color=alt.Color('freq:Q', scale=alt.Scale(scheme=\"magma\")),\n",
    "    column='League:O'\n",
    ").properties(\n",
    "    height=300,\n",
    "    width=300\n",
    ")"
   ]
  },
  {
   "cell_type": "code",
   "execution_count": 157,
   "metadata": {},
   "outputs": [
    {
     "data": {
      "application/vnd.vegalite.v3+json": {
       "$schema": "https://vega.github.io/schema/vega-lite/v3.4.0.json",
       "config": {
        "mark": {
         "tooltip": null
        },
        "view": {
         "height": 300,
         "width": 400
        }
       },
       "data": {
        "name": "data-b4f7585f1bc81dbfed5049da869b9604"
       },
       "datasets": {
        "data-b4f7585f1bc81dbfed5049da869b9604": [
         {
          "League": "🇫🇷",
          "freq": 2,
          "jensen": 1,
          "position": 1
         },
         {
          "League": "🇫🇷",
          "freq": 10,
          "jensen": 2,
          "position": 2
         },
         {
          "League": "🇫🇷",
          "freq": 15,
          "jensen": 2,
          "position": 3
         },
         {
          "League": "🇫🇷",
          "freq": 13,
          "jensen": 2,
          "position": 4
         },
         {
          "League": "🇫🇷",
          "freq": 16,
          "jensen": 3,
          "position": 5
         },
         {
          "League": "🇫🇷",
          "freq": 22,
          "jensen": 3,
          "position": 6
         },
         {
          "League": "🇫🇷",
          "freq": 29,
          "jensen": 3,
          "position": 7
         },
         {
          "League": "🇫🇷",
          "freq": 28,
          "jensen": 3,
          "position": 8
         },
         {
          "League": "🇫🇷",
          "freq": 29,
          "jensen": 3,
          "position": 9
         },
         {
          "League": "🇫🇷",
          "freq": 29,
          "jensen": 3,
          "position": 10
         },
         {
          "League": "🇫🇷",
          "freq": 33,
          "jensen": 3,
          "position": 11
         },
         {
          "League": "🇫🇷",
          "freq": 30,
          "jensen": 3,
          "position": 12
         },
         {
          "League": "🇫🇷",
          "freq": 29,
          "jensen": 3,
          "position": 13
         },
         {
          "League": "🇫🇷",
          "freq": 27,
          "jensen": 4,
          "position": 14
         },
         {
          "League": "🇫🇷",
          "freq": 31,
          "jensen": 4,
          "position": 15
         },
         {
          "League": "🇫🇷",
          "freq": 26,
          "jensen": 4,
          "position": 16
         },
         {
          "League": "🇫🇷",
          "freq": 30,
          "jensen": 4,
          "position": 17
         },
         {
          "League": "🇫🇷",
          "freq": 26,
          "jensen": 4,
          "position": 18
         },
         {
          "League": "🇫🇷",
          "freq": 14,
          "jensen": 4,
          "position": 19
         },
         {
          "League": "🇫🇷",
          "freq": 3,
          "jensen": 4,
          "position": 20
         },
         {
          "League": "🏴󠁧󠁢󠁥󠁮󠁧󠁿",
          "freq": 3,
          "jensen": 1,
          "position": 1
         },
         {
          "League": "🏴󠁧󠁢󠁥󠁮󠁧󠁿",
          "freq": 7,
          "jensen": 2,
          "position": 2
         },
         {
          "League": "🏴󠁧󠁢󠁥󠁮󠁧󠁿",
          "freq": 12,
          "jensen": 2,
          "position": 3
         },
         {
          "League": "🏴󠁧󠁢󠁥󠁮󠁧󠁿",
          "freq": 18,
          "jensen": 2,
          "position": 4
         },
         {
          "League": "🏴󠁧󠁢󠁥󠁮󠁧󠁿",
          "freq": 16,
          "jensen": 2,
          "position": 5
         },
         {
          "League": "🏴󠁧󠁢󠁥󠁮󠁧󠁿",
          "freq": 15,
          "jensen": 2,
          "position": 6
         },
         {
          "League": "🏴󠁧󠁢󠁥󠁮󠁧󠁿",
          "freq": 19,
          "jensen": 3,
          "position": 7
         },
         {
          "League": "🏴󠁧󠁢󠁥󠁮󠁧󠁿",
          "freq": 16,
          "jensen": 3,
          "position": 8
         },
         {
          "League": "🏴󠁧󠁢󠁥󠁮󠁧󠁿",
          "freq": 19,
          "jensen": 3,
          "position": 9
         },
         {
          "League": "🏴󠁧󠁢󠁥󠁮󠁧󠁿",
          "freq": 18,
          "jensen": 3,
          "position": 10
         },
         {
          "League": "🏴󠁧󠁢󠁥󠁮󠁧󠁿",
          "freq": 23,
          "jensen": 3,
          "position": 11
         },
         {
          "League": "🏴󠁧󠁢󠁥󠁮󠁧󠁿",
          "freq": 28,
          "jensen": 3,
          "position": 12
         },
         {
          "League": "🏴󠁧󠁢󠁥󠁮󠁧󠁿",
          "freq": 28,
          "jensen": 3,
          "position": 13
         },
         {
          "League": "🏴󠁧󠁢󠁥󠁮󠁧󠁿",
          "freq": 26,
          "jensen": 3,
          "position": 14
         },
         {
          "League": "🏴󠁧󠁢󠁥󠁮󠁧󠁿",
          "freq": 27,
          "jensen": 3,
          "position": 15
         },
         {
          "League": "🏴󠁧󠁢󠁥󠁮󠁧󠁿",
          "freq": 31,
          "jensen": 4,
          "position": 16
         },
         {
          "League": "🏴󠁧󠁢󠁥󠁮󠁧󠁿",
          "freq": 25,
          "jensen": 4,
          "position": 17
         },
         {
          "League": "🏴󠁧󠁢󠁥󠁮󠁧󠁿",
          "freq": 24,
          "jensen": 4,
          "position": 18
         },
         {
          "League": "🏴󠁧󠁢󠁥󠁮󠁧󠁿",
          "freq": 17,
          "jensen": 4,
          "position": 19
         },
         {
          "League": "🏴󠁧󠁢󠁥󠁮󠁧󠁿",
          "freq": 10,
          "jensen": 4,
          "position": 20
         },
         {
          "League": "🇩🇪",
          "freq": 3,
          "jensen": 1,
          "position": 1
         },
         {
          "League": "🇩🇪",
          "freq": 15,
          "jensen": 2,
          "position": 2
         },
         {
          "League": "🇩🇪",
          "freq": 22,
          "jensen": 2,
          "position": 3
         },
         {
          "League": "🇩🇪",
          "freq": 29,
          "jensen": 2,
          "position": 4
         },
         {
          "League": "🇩🇪",
          "freq": 27,
          "jensen": 2,
          "position": 5
         },
         {
          "League": "🇩🇪",
          "freq": 25,
          "jensen": 2,
          "position": 6
         },
         {
          "League": "🇩🇪",
          "freq": 22,
          "jensen": 2,
          "position": 7
         },
         {
          "League": "🇩🇪",
          "freq": 28,
          "jensen": 2,
          "position": 8
         },
         {
          "League": "🇩🇪",
          "freq": 25,
          "jensen": 3,
          "position": 9
         },
         {
          "League": "🇩🇪",
          "freq": 21,
          "jensen": 3,
          "position": 10
         },
         {
          "League": "🇩🇪",
          "freq": 22,
          "jensen": 3,
          "position": 11
         },
         {
          "League": "🇩🇪",
          "freq": 23,
          "jensen": 3,
          "position": 12
         },
         {
          "League": "🇩🇪",
          "freq": 19,
          "jensen": 3,
          "position": 13
         },
         {
          "League": "🇩🇪",
          "freq": 20,
          "jensen": 3,
          "position": 14
         },
         {
          "League": "🇩🇪",
          "freq": 17,
          "jensen": 3,
          "position": 15
         },
         {
          "League": "🇩🇪",
          "freq": 15,
          "jensen": 4,
          "position": 16
         },
         {
          "League": "🇩🇪",
          "freq": 9,
          "jensen": 4,
          "position": 17
         },
         {
          "League": "🇩🇪",
          "freq": 4,
          "jensen": 4,
          "position": 18
         },
         {
          "League": "🇮🇹",
          "freq": 6,
          "jensen": 1,
          "position": 1
         },
         {
          "League": "🇮🇹",
          "freq": 11,
          "jensen": 1,
          "position": 2
         },
         {
          "League": "🇮🇹",
          "freq": 14,
          "jensen": 2,
          "position": 3
         },
         {
          "League": "🇮🇹",
          "freq": 15,
          "jensen": 2,
          "position": 4
         },
         {
          "League": "🇮🇹",
          "freq": 15,
          "jensen": 2,
          "position": 5
         },
         {
          "League": "🇮🇹",
          "freq": 12,
          "jensen": 3,
          "position": 6
         },
         {
          "League": "🇮🇹",
          "freq": 22,
          "jensen": 3,
          "position": 7
         },
         {
          "League": "🇮🇹",
          "freq": 23,
          "jensen": 3,
          "position": 8
         },
         {
          "League": "🇮🇹",
          "freq": 24,
          "jensen": 3,
          "position": 9
         },
         {
          "League": "🇮🇹",
          "freq": 23,
          "jensen": 3,
          "position": 10
         },
         {
          "League": "🇮🇹",
          "freq": 22,
          "jensen": 4,
          "position": 11
         },
         {
          "League": "🇮🇹",
          "freq": 21,
          "jensen": 4,
          "position": 12
         },
         {
          "League": "🇮🇹",
          "freq": 18,
          "jensen": 4,
          "position": 13
         },
         {
          "League": "🇮🇹",
          "freq": 24,
          "jensen": 4,
          "position": 14
         },
         {
          "League": "🇮🇹",
          "freq": 29,
          "jensen": 4,
          "position": 15
         },
         {
          "League": "🇮🇹",
          "freq": 26,
          "jensen": 4,
          "position": 16
         },
         {
          "League": "🇮🇹",
          "freq": 24,
          "jensen": 4,
          "position": 17
         },
         {
          "League": "🇮🇹",
          "freq": 20,
          "jensen": 4,
          "position": 18
         },
         {
          "League": "🇮🇹",
          "freq": 9,
          "jensen": 4,
          "position": 19
         },
         {
          "League": "🇮🇹",
          "freq": 1,
          "jensen": 4,
          "position": 20
         },
         {
          "League": "🇪🇸",
          "freq": 2,
          "jensen": 1,
          "position": 1
         },
         {
          "League": "🇪🇸",
          "freq": 7,
          "jensen": 1,
          "position": 2
         },
         {
          "League": "🇪🇸",
          "freq": 13,
          "jensen": 1,
          "position": 3
         },
         {
          "League": "🇪🇸",
          "freq": 10,
          "jensen": 1,
          "position": 4
         },
         {
          "League": "🇪🇸",
          "freq": 18,
          "jensen": 2,
          "position": 5
         },
         {
          "League": "🇪🇸",
          "freq": 21,
          "jensen": 2,
          "position": 6
         },
         {
          "League": "🇪🇸",
          "freq": 24,
          "jensen": 2,
          "position": 7
         },
         {
          "League": "🇪🇸",
          "freq": 25,
          "jensen": 2,
          "position": 8
         },
         {
          "League": "🇪🇸",
          "freq": 27,
          "jensen": 3,
          "position": 9
         },
         {
          "League": "🇪🇸",
          "freq": 34,
          "jensen": 3,
          "position": 10
         },
         {
          "League": "🇪🇸",
          "freq": 31,
          "jensen": 3,
          "position": 11
         },
         {
          "League": "🇪🇸",
          "freq": 31,
          "jensen": 3,
          "position": 12
         },
         {
          "League": "🇪🇸",
          "freq": 31,
          "jensen": 3,
          "position": 13
         },
         {
          "League": "🇪🇸",
          "freq": 32,
          "jensen": 3,
          "position": 14
         },
         {
          "League": "🇪🇸",
          "freq": 28,
          "jensen": 3,
          "position": 15
         },
         {
          "League": "🇪🇸",
          "freq": 22,
          "jensen": 3,
          "position": 16
         },
         {
          "League": "🇪🇸",
          "freq": 14,
          "jensen": 3,
          "position": 17
         },
         {
          "League": "🇪🇸",
          "freq": 14,
          "jensen": 4,
          "position": 18
         },
         {
          "League": "🇪🇸",
          "freq": 12,
          "jensen": 4,
          "position": 19
         },
         {
          "League": "🇪🇸",
          "freq": 10,
          "jensen": 4,
          "position": 20
         }
        ]
       },
       "hconcat": [
        {
         "encoding": {
          "color": {
           "field": "freq",
           "scale": {
            "scheme": "magma"
           },
           "type": "quantitative"
          },
          "column": {
           "field": "League",
           "type": "ordinal"
          },
          "y": {
           "field": "position",
           "type": "ordinal"
          }
         },
         "height": 300,
         "mark": "bar",
         "width": 100
        },
        {
         "encoding": {
          "color": {
           "field": "freq",
           "scale": {
            "scheme": "magma"
           },
           "type": "quantitative"
          },
          "column": {
           "field": "League",
           "type": "ordinal"
          },
          "y": {
           "field": "position",
           "type": "ordinal"
          }
         },
         "height": 300,
         "mark": "bar",
         "width": 100
        }
       ]
      },
      "text/plain": [
       "<VegaLite 3 object>\n",
       "\n",
       "If you see this message, it means the renderer has not been properly enabled\n",
       "for the frontend that you are using. For more information, see\n",
       "https://altair-viz.github.io/user_guide/troubleshooting.html\n"
      ]
     },
     "execution_count": 157,
     "metadata": {},
     "output_type": "execute_result"
    }
   ],
   "source": [
    "a|a"
   ]
  },
  {
   "cell_type": "code",
   "execution_count": 359,
   "metadata": {},
   "outputs": [
    {
     "data": {
      "application/vnd.vegalite.v3+json": {
       "$schema": "https://vega.github.io/schema/vega-lite/v3.4.0.json",
       "config": {
        "mark": {
         "tooltip": null
        },
        "view": {
         "height": 300,
         "width": 400
        }
       },
       "data": {
        "url": "https://vega.github.io/vega-datasets/data/iris.json"
       },
       "hconcat": [
        {
         "encoding": {
          "color": {
           "field": "species",
           "type": "nominal"
          },
          "x": {
           "field": "petalLength",
           "type": "quantitative"
          },
          "y": {
           "field": "petalWidth",
           "type": "quantitative"
          }
         },
         "height": 300,
         "mark": "point",
         "width": 300
        },
        {
         "encoding": {
          "color": {
           "field": "species",
           "type": "nominal"
          },
          "x": {
           "aggregate": "count",
           "type": "quantitative"
          },
          "y": {
           "bin": {
            "maxbins": 30
           },
           "field": "petalWidth",
           "type": "quantitative"
          }
         },
         "height": 300,
         "mark": "bar",
         "width": 100
        }
       ]
      },
      "image/png": "[encoded data removed]",
      "text/plain": [
       "<VegaLite 3 object>\n",
       "\n",
       "If you see this message, it means the renderer has not been properly enabled\n",
       "for the frontend that you are using. For more information, see\n",
       "https://altair-viz.github.io/user_guide/troubleshooting.html\n"
      ]
     },
     "execution_count": 359,
     "metadata": {},
     "output_type": "execute_result"
    }
   ],
   "source": [
    "import altair as alt\n",
    "from vega_datasets import data\n",
    "\n",
    "iris = data.iris.url\n",
    "\n",
    "chart1 = alt.Chart(iris).mark_point().encode(\n",
    "    x='petalLength:Q',\n",
    "    y='petalWidth:Q',\n",
    "    color='species:N'\n",
    ").properties(\n",
    "    height=300,\n",
    "    width=300\n",
    ")\n",
    "\n",
    "chart2 = alt.Chart(iris).mark_bar().encode(\n",
    "    x='count()',\n",
    "    y=alt.Y('petalWidth:Q', bin=alt.Bin(maxbins=30)),\n",
    "    color='species:N'\n",
    ").properties(\n",
    "    height=300,\n",
    "    width=100\n",
    ")\n",
    "\n",
    "chart1 | chart2"
   ]
  },
  {
   "cell_type": "code",
   "execution_count": 305,
   "metadata": {},
   "outputs": [],
   "source": [
    "chart1 = alt.Chart(iris).mark_bar().encode(\n",
    "    x='petalLength:Q',\n",
    "    y='petalWidth:Q',\n",
    "    color='species:N'\n",
    ").properties(\n",
    "    height=300,\n",
    "    width=300\n",
    ")\n"
   ]
  },
  {
   "cell_type": "code",
   "execution_count": 306,
   "metadata": {},
   "outputs": [
    {
     "data": {
      "application/vnd.vegalite.v3+json": {
       "$schema": "https://vega.github.io/schema/vega-lite/v3.4.0.json",
       "config": {
        "mark": {
         "tooltip": null
        },
        "view": {
         "height": 300,
         "width": 400
        }
       },
       "data": {
        "url": "https://vega.github.io/vega-datasets/data/iris.json"
       },
       "encoding": {
        "color": {
         "field": "species",
         "type": "nominal"
        },
        "x": {
         "field": "petalLength",
         "type": "quantitative"
        },
        "y": {
         "field": "petalWidth",
         "type": "quantitative"
        }
       },
       "height": 300,
       "mark": "bar",
       "width": 300
      },
      "image/png": "[encoded data removed]",
      "text/plain": [
       "<VegaLite 3 object>\n",
       "\n",
       "If you see this message, it means the renderer has not been properly enabled\n",
       "for the frontend that you are using. For more information, see\n",
       "https://altair-viz.github.io/user_guide/troubleshooting.html\n"
      ]
     },
     "execution_count": 306,
     "metadata": {},
     "output_type": "execute_result"
    }
   ],
   "source": [
    "chart1"
   ]
  },
  {
   "cell_type": "code",
   "execution_count": 24,
   "metadata": {},
   "outputs": [
    {
     "ename": "NameError",
     "evalue": "name 'data' is not defined",
     "output_type": "error",
     "traceback": [
      "\u001b[1;31m---------------------------------------------------------------------------\u001b[0m",
      "\u001b[1;31mNameError\u001b[0m                                 Traceback (most recent call last)",
      "\u001b[1;32m<ipython-input-24-6bbe7fadab3c>\u001b[0m in \u001b[0;36m<module>\u001b[1;34m\u001b[0m\n\u001b[1;32m----> 1\u001b[1;33m alt.Chart(data.movies.url).mark_rect().encode(\n\u001b[0m\u001b[0;32m      2\u001b[0m     \u001b[0malt\u001b[0m\u001b[1;33m.\u001b[0m\u001b[0mX\u001b[0m\u001b[1;33m(\u001b[0m\u001b[1;34m'IMDB_Rating:Q'\u001b[0m\u001b[1;33m,\u001b[0m \u001b[0mbin\u001b[0m\u001b[1;33m=\u001b[0m\u001b[1;32mTrue\u001b[0m\u001b[1;33m)\u001b[0m\u001b[1;33m,\u001b[0m\u001b[1;33m\u001b[0m\u001b[1;33m\u001b[0m\u001b[0m\n\u001b[0;32m      3\u001b[0m     \u001b[0malt\u001b[0m\u001b[1;33m.\u001b[0m\u001b[0mY\u001b[0m\u001b[1;33m(\u001b[0m\u001b[1;34m'Rotten_Tomatoes_Rating:Q'\u001b[0m\u001b[1;33m,\u001b[0m \u001b[0mbin\u001b[0m\u001b[1;33m=\u001b[0m\u001b[1;32mTrue\u001b[0m\u001b[1;33m)\u001b[0m\u001b[1;33m,\u001b[0m\u001b[1;33m\u001b[0m\u001b[1;33m\u001b[0m\u001b[0m\n\u001b[0;32m      4\u001b[0m     alt.Color('count()',\n\u001b[0;32m      5\u001b[0m         \u001b[0mscale\u001b[0m\u001b[1;33m=\u001b[0m\u001b[0malt\u001b[0m\u001b[1;33m.\u001b[0m\u001b[0mScale\u001b[0m\u001b[1;33m(\u001b[0m\u001b[0mscheme\u001b[0m\u001b[1;33m=\u001b[0m\u001b[1;34m'greenblue'\u001b[0m\u001b[1;33m)\u001b[0m\u001b[1;33m,\u001b[0m\u001b[1;33m\u001b[0m\u001b[1;33m\u001b[0m\u001b[0m\n",
      "\u001b[1;31mNameError\u001b[0m: name 'data' is not defined"
     ]
    }
   ],
   "source": [
    "alt.Chart(data.movies.url).mark_rect().encode(\n",
    "    alt.X('IMDB_Rating:Q', bin=True),\n",
    "    alt.Y('Rotten_Tomatoes_Rating:Q', bin=True),\n",
    "    alt.Color('count()',\n",
    "        scale=alt.Scale(scheme='greenblue'),\n",
    "        #legend=alt.Legend(title='Total Records')\n",
    "    )\n",
    ")|alt.Chart(data.movies.url).mark_rect().encode(\n",
    "    alt.X('IMDB_Rating:Q'),\n",
    "    alt.Y('Rotten_Tomatoes_Rating:Q'),\n",
    "    alt.Color('count()',\n",
    "        scale=alt.Scale(scheme='magma'),\n",
    "        #legend=alt.Legend(title='Total Records')\n",
    "    )\n",
    ")"
   ]
  },
  {
   "cell_type": "code",
   "execution_count": null,
   "metadata": {},
   "outputs": [],
   "source": []
  }
 ],
 "metadata": {
  "kernelspec": {
   "display_name": "Python 3",
   "language": "python",
   "name": "python3"
  },
  "language_info": {
   "codemirror_mode": {
    "name": "ipython",
    "version": 3
   },
   "file_extension": ".py",
   "mimetype": "text/x-python",
   "name": "python",
   "nbconvert_exporter": "python",
   "pygments_lexer": "ipython3",
   "version": "3.7.3"
  }
 },
 "nbformat": 4,
 "nbformat_minor": 4
}
