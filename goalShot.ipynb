{
 "cells": [
  {
   "cell_type": "markdown",
   "metadata": {},
   "source": [
    "Download events (/events/) & matches (/matches/) & players (./players.json) from https://figshare.com/collections/Soccer_match_event_dataset/4415000/3"
   ]
  },
  {
   "cell_type": "code",
   "execution_count": 1,
   "metadata": {},
   "outputs": [],
   "source": [
    "import pandas as pd\n",
    "import numpy as np\n",
    "from collections import ChainMap\n",
    "competition = 'England'\n",
    "#events = pd.read_json('events/events_{}.json'.format(competition)).set_index('id')\n",
    "matches = pd.read_json('matches/matches_{}.json'.format(competition)).set_index('wyId')\n",
    "players = pd.read_json('players/players.json').set_index('wyId')"
   ]
  },
  {
   "cell_type": "markdown",
   "metadata": {},
   "source": [
    "# Matches "
   ]
  },
  {
   "cell_type": "code",
   "execution_count": 2,
   "metadata": {},
   "outputs": [],
   "source": [
    "def filter_last_minutes_events(events, matchId, minutes=10):\n",
    "    return events[(events['matchId']==matchId) & (events['matchPeriod']=='2H') & (events['eventSec']>(45-minutes)*60)]"
   ]
  },
  {
   "cell_type": "code",
   "execution_count": 3,
   "metadata": {},
   "outputs": [],
   "source": [
    "minutes = 10"
   ]
  },
  {
   "cell_type": "code",
   "execution_count": 4,
   "metadata": {},
   "outputs": [
    {
     "name": "stderr",
     "output_type": "stream",
     "text": [
      "/home/alfons/anaconda3/lib/python3.7/site-packages/ipykernel_launcher.py:5: SettingWithCopyWarning: \n",
      "A value is trying to be set on a copy of a slice from a DataFrame.\n",
      "Try using .loc[row_indexer,col_indexer] = value instead\n",
      "\n",
      "See the caveats in the documentation: http://pandas.pydata.org/pandas-docs/stable/indexing.html#indexing-view-versus-copy\n",
      "  \"\"\"\n",
      "/home/alfons/anaconda3/lib/python3.7/site-packages/ipykernel_launcher.py:6: SettingWithCopyWarning: \n",
      "A value is trying to be set on a copy of a slice from a DataFrame.\n",
      "Try using .loc[row_indexer,col_indexer] = value instead\n",
      "\n",
      "See the caveats in the documentation: http://pandas.pydata.org/pandas-docs/stable/indexing.html#indexing-view-versus-copy\n",
      "  \n",
      "/home/alfons/anaconda3/lib/python3.7/site-packages/ipykernel_launcher.py:5: SettingWithCopyWarning: \n",
      "A value is trying to be set on a copy of a slice from a DataFrame.\n",
      "Try using .loc[row_indexer,col_indexer] = value instead\n",
      "\n",
      "See the caveats in the documentation: http://pandas.pydata.org/pandas-docs/stable/indexing.html#indexing-view-versus-copy\n",
      "  \"\"\"\n",
      "/home/alfons/anaconda3/lib/python3.7/site-packages/ipykernel_launcher.py:6: SettingWithCopyWarning: \n",
      "A value is trying to be set on a copy of a slice from a DataFrame.\n",
      "Try using .loc[row_indexer,col_indexer] = value instead\n",
      "\n",
      "See the caveats in the documentation: http://pandas.pydata.org/pandas-docs/stable/indexing.html#indexing-view-versus-copy\n",
      "  \n",
      "/home/alfons/anaconda3/lib/python3.7/site-packages/ipykernel_launcher.py:5: SettingWithCopyWarning: \n",
      "A value is trying to be set on a copy of a slice from a DataFrame.\n",
      "Try using .loc[row_indexer,col_indexer] = value instead\n",
      "\n",
      "See the caveats in the documentation: http://pandas.pydata.org/pandas-docs/stable/indexing.html#indexing-view-versus-copy\n",
      "  \"\"\"\n",
      "/home/alfons/anaconda3/lib/python3.7/site-packages/ipykernel_launcher.py:6: SettingWithCopyWarning: \n",
      "A value is trying to be set on a copy of a slice from a DataFrame.\n",
      "Try using .loc[row_indexer,col_indexer] = value instead\n",
      "\n",
      "See the caveats in the documentation: http://pandas.pydata.org/pandas-docs/stable/indexing.html#indexing-view-versus-copy\n",
      "  \n",
      "/home/alfons/anaconda3/lib/python3.7/site-packages/ipykernel_launcher.py:5: SettingWithCopyWarning: \n",
      "A value is trying to be set on a copy of a slice from a DataFrame.\n",
      "Try using .loc[row_indexer,col_indexer] = value instead\n",
      "\n",
      "See the caveats in the documentation: http://pandas.pydata.org/pandas-docs/stable/indexing.html#indexing-view-versus-copy\n",
      "  \"\"\"\n",
      "/home/alfons/anaconda3/lib/python3.7/site-packages/ipykernel_launcher.py:6: SettingWithCopyWarning: \n",
      "A value is trying to be set on a copy of a slice from a DataFrame.\n",
      "Try using .loc[row_indexer,col_indexer] = value instead\n",
      "\n",
      "See the caveats in the documentation: http://pandas.pydata.org/pandas-docs/stable/indexing.html#indexing-view-versus-copy\n",
      "  \n",
      "/home/alfons/anaconda3/lib/python3.7/site-packages/ipykernel_launcher.py:5: SettingWithCopyWarning: \n",
      "A value is trying to be set on a copy of a slice from a DataFrame.\n",
      "Try using .loc[row_indexer,col_indexer] = value instead\n",
      "\n",
      "See the caveats in the documentation: http://pandas.pydata.org/pandas-docs/stable/indexing.html#indexing-view-versus-copy\n",
      "  \"\"\"\n",
      "/home/alfons/anaconda3/lib/python3.7/site-packages/ipykernel_launcher.py:6: SettingWithCopyWarning: \n",
      "A value is trying to be set on a copy of a slice from a DataFrame.\n",
      "Try using .loc[row_indexer,col_indexer] = value instead\n",
      "\n",
      "See the caveats in the documentation: http://pandas.pydata.org/pandas-docs/stable/indexing.html#indexing-view-versus-copy\n",
      "  \n"
     ]
    },
    {
     "data": {
      "text/plain": [
       "[[24.009708737864077, 5.4710094658445385],\n",
       " [22.725806451612904, 5.393452885402371],\n",
       " [23.92105263157895, 5.014018732949925],\n",
       " [24.35211267605634, 5.372767163389732],\n",
       " [24.693602693602692, 5.3908258036700305]]"
      ]
     },
     "execution_count": 4,
     "metadata": {},
     "output_type": "execute_result"
    }
   ],
   "source": [
    "def get_shots_season(events, shotsList):\n",
    "    events_shot = events[events.eventName == 'Shot']\n",
    "    fkShots = ['Free kick shot', 'Penalty']\n",
    "    events_fk = events[ (events.eventName == 'Free Kick') & (events.subEventName.isin(fkShots) )]\n",
    "    events_shot['Shots'] = events_shot.apply(lambda _: '1', axis=1)\n",
    "    events_fk['FreeKicks'] = events_fk.apply(lambda _: '1', axis=1)\n",
    "    fkShotsMatch = events_fk[['matchId','FreeKicks']].groupby('matchId').count()\n",
    "    shotsMatch = events_shot[['matchId','Shots']].groupby('matchId').count()\n",
    "    shots = pd.merge(fkShotsMatch, shotsMatch, on ='matchId')\n",
    "    shots['Total'] = shots.FreeKicks + shots.Shots\n",
    "    #print(shots.Total)\n",
    "    shots_array = np.array(shots.Total)\n",
    "    shotsList.append([np.mean(shots_array), np.std(shots_array)])\n",
    "    return\n",
    "\n",
    "shots = []\n",
    "countries = ['France', 'Spain', 'England', 'Germany', 'Italy']\n",
    "for country in countries:\n",
    "    events = pd.read_json('events/events_{}.json'.format(country)).set_index('id')\n",
    "    get_shots_season(events,shots)\n",
    "    #del events\n",
    "shots"
   ]
  },
  {
   "cell_type": "code",
   "execution_count": 5,
   "metadata": {},
   "outputs": [
    {
     "data": {
      "application/vnd.vegalite.v3+json": {
       "$schema": "https://vega.github.io/schema/vega-lite/v3.4.0.json",
       "config": {
        "mark": {
         "tooltip": null
        },
        "view": {
         "height": 300,
         "width": 400
        }
       },
       "data": {
        "format": {
         "type": "json"
        },
        "url": "altair-data-e29d1b650b45d5cfa8cd739a49cb4ef8.json"
       },
       "encoding": {
        "x": {
         "field": "subEventName",
         "type": "nominal"
        },
        "y": {
         "aggregate": "count",
         "field": "subEventName",
         "type": "quantitative"
        }
       },
       "mark": "bar"
      },
      "image/png": "[encoded data removed]",
      "text/plain": [
       "<VegaLite 3 object>\n",
       "\n",
       "If you see this message, it means the renderer has not been properly enabled\n",
       "for the frontend that you are using. For more information, see\n",
       "https://altair-viz.github.io/user_guide/troubleshooting.html\n"
      ]
     },
     "execution_count": 5,
     "metadata": {},
     "output_type": "execute_result"
    }
   ],
   "source": [
    "# import altair as alt\n",
    "# alt.data_transformers.enable('json')\n",
    "# alt.Chart(events).mark_bar().encode(\n",
    "#     x=\"subEventName:N\",\n",
    "#     y='count(subEventName):Q'\n",
    "# )"
   ]
  },
  {
   "cell_type": "code",
   "execution_count": 6,
   "metadata": {},
   "outputs": [
    {
     "name": "stdout",
     "output_type": "stream",
     "text": [
      "380\n",
      "Country\n",
      "Country\n",
      "Country\n",
      "Country\n",
      "Country\n"
     ]
    },
    {
     "data": {
      "text/plain": [
       "[[2.718421052631579, 1.619674311504094],\n",
       " [2.694736842105263, 1.7774830472832932],\n",
       " [2.6789473684210527, 1.6629330294355849],\n",
       " [2.7941176470588234, 1.6588339590827734],\n",
       " [2.6763157894736844, 1.645717602322099]]"
      ]
     },
     "execution_count": 6,
     "metadata": {},
     "output_type": "execute_result"
    }
   ],
   "source": [
    "print(len(matches))\n",
    "def get_goals_season(matches, goalList):\n",
    "    goalArray = []\n",
    "    for i in range(len(matches)):\n",
    "        scoreString = np.array(matches.label.iloc[i].split())[-3:]\n",
    "        goalArray.append(int(scoreString[0]) + int(scoreString[2]))\n",
    "    goalList.append([np.mean(goalArray), np.std(goalArray)])\n",
    "    return\n",
    "    \n",
    "countries = ['France', 'Spain', 'England', 'Germany', 'Italy']\n",
    "goals = []\n",
    "for country in countries:\n",
    "    matches = pd.read_json('matches/matches_{}.json'.format(country)).set_index('wyId')\n",
    "    get_goals_season(matches, goals)\n",
    "    print('Country')\n",
    "goals"
   ]
  },
  {
   "cell_type": "code",
   "execution_count": 9,
   "metadata": {},
   "outputs": [
    {
     "data": {
      "text/html": [
       "<div>\n",
       "<style scoped>\n",
       "    .dataframe tbody tr th:only-of-type {\n",
       "        vertical-align: middle;\n",
       "    }\n",
       "\n",
       "    .dataframe tbody tr th {\n",
       "        vertical-align: top;\n",
       "    }\n",
       "\n",
       "    .dataframe thead th {\n",
       "        text-align: right;\n",
       "    }\n",
       "</style>\n",
       "<table border=\"1\" class=\"dataframe\">\n",
       "  <thead>\n",
       "    <tr style=\"text-align: right;\">\n",
       "      <th></th>\n",
       "      <th>Country</th>\n",
       "      <th>Goals</th>\n",
       "      <th>Shots</th>\n",
       "    </tr>\n",
       "  </thead>\n",
       "  <tbody>\n",
       "    <tr>\n",
       "      <th>0</th>\n",
       "      <td>France</td>\n",
       "      <td>2.718421</td>\n",
       "      <td>24.009709</td>\n",
       "    </tr>\n",
       "    <tr>\n",
       "      <th>1</th>\n",
       "      <td>Spain</td>\n",
       "      <td>2.694737</td>\n",
       "      <td>22.725806</td>\n",
       "    </tr>\n",
       "    <tr>\n",
       "      <th>2</th>\n",
       "      <td>England</td>\n",
       "      <td>2.678947</td>\n",
       "      <td>23.921053</td>\n",
       "    </tr>\n",
       "    <tr>\n",
       "      <th>3</th>\n",
       "      <td>Germany</td>\n",
       "      <td>2.794118</td>\n",
       "      <td>24.352113</td>\n",
       "    </tr>\n",
       "    <tr>\n",
       "      <th>4</th>\n",
       "      <td>Italy</td>\n",
       "      <td>2.676316</td>\n",
       "      <td>24.693603</td>\n",
       "    </tr>\n",
       "  </tbody>\n",
       "</table>\n",
       "</div>"
      ],
      "text/plain": [
       "   Country     Goals      Shots\n",
       "0   France  2.718421  24.009709\n",
       "1    Spain  2.694737  22.725806\n",
       "2  England  2.678947  23.921053\n",
       "3  Germany  2.794118  24.352113\n",
       "4    Italy  2.676316  24.693603"
      ]
     },
     "execution_count": 9,
     "metadata": {},
     "output_type": "execute_result"
    }
   ],
   "source": [
    "shots = np.array(shots)\n",
    "goals = np.array(goals)\n",
    "shotsGoals = pd.DataFrame({'Country':countries , 'Goals':goals[:,0], 'Shots':shots[:,0]})\n",
    "shotsGoals.head()"
   ]
  },
  {
   "cell_type": "code",
   "execution_count": 10,
   "metadata": {},
   "outputs": [
    {
     "data": {
      "application/vnd.vegalite.v3+json": {
       "$schema": "https://vega.github.io/schema/vega-lite/v3.4.0.json",
       "config": {
        "mark": {
         "tooltip": null
        },
        "view": {
         "height": 300,
         "width": 400
        }
       },
       "data": {
        "format": {
         "type": "json"
        },
        "url": "altair-data-5ea383c61f0e4ffba1b22b0bdea0a41b.json"
       },
       "layer": [
        {
         "encoding": {
          "color": {
           "field": "Country",
           "scale": {
            "domain": [
             "France",
             "Spain",
             "England",
             "Germany",
             "Italy"
            ],
            "range": [
             "#fc8d59",
             "#fee090",
             "#e0f3f8",
             "#91bfdb",
             "#4575b4"
            ]
           },
           "type": "nominal"
          },
          "x": {
           "field": "Country",
           "sort": [
            "France",
            "Spain",
            "England",
            "Germany",
            "Italy"
           ],
           "type": "nominal"
          },
          "y": {
           "field": "Shots",
           "type": "quantitative"
          }
         },
         "height": 300,
         "mark": "bar",
         "width": 500
        },
        {
         "encoding": {
          "color": {
           "field": "Country",
           "scale": {
            "domain": [
             "France",
             "Spain",
             "England",
             "Germany",
             "Italy"
            ],
            "range": [
             "#8c510a",
             "#d8b365",
             "#f6e8c3",
             "#c7eae5",
             "#5ab4ac",
             "#01665e"
            ]
           },
           "type": "nominal"
          },
          "x": {
           "field": "Country",
           "sort": [
            "France",
            "Spain",
            "England",
            "Germany",
            "Italy"
           ],
           "type": "nominal"
          },
          "y": {
           "field": "Goals",
           "type": "quantitative"
          }
         },
         "height": 300,
         "mark": "bar",
         "width": 500
        }
       ],
       "resolve": {
        "scale": {
         "color": "independent"
        }
       }
      },
      "image/png": "[encoded data removed]",
      "text/plain": [
       "<VegaLite 3 object>\n",
       "\n",
       "If you see this message, it means the renderer has not been properly enabled\n",
       "for the frontend that you are using. For more information, see\n",
       "https://altair-viz.github.io/user_guide/troubleshooting.html\n"
      ]
     },
     "execution_count": 10,
     "metadata": {},
     "output_type": "execute_result"
    }
   ],
   "source": [
    "import altair as alt\n",
    "#alt.data_transformers.enable('json')\n",
    "base = alt.Chart(shotsGoals,width=500, height=300)\n",
    "\n",
    "one = base.mark_bar().encode(\n",
    "    x = alt.X('Country', sort=countries),\n",
    "    #y = 'Shots:Q',\n",
    "    y ='Goals:Q',\n",
    "    color = alt.Color('Country:N',\n",
    "    scale=alt.Scale(domain=['France', 'Spain', 'England', 'Germany', 'Italy'],\n",
    "    range=['#8c510a','#d8b365','#f6e8c3','#c7eae5','#5ab4ac','#01665e']))\n",
    "    #color = 'Country:N'\n",
    ")\n",
    "two = base.mark_bar().encode(\n",
    "    x= alt.X('Country', sort=countries),\n",
    "    y='Shots:Q',\n",
    "    #color = 'Country:N'\n",
    "    color = alt.Color('Country:N',\n",
    "    scale=alt.Scale(domain=['France', 'Spain', 'England', 'Germany', 'Italy'],\n",
    "    range=['#fc8d59','#fee090','#e0f3f8','#91bfdb','#4575b4'])),\n",
    "\n",
    ")\n",
    "\n",
    "alt.layer(\n",
    "two, one\n",
    ").resolve_scale('independent')\n"
   ]
  },
  {
   "cell_type": "code",
   "execution_count": 17,
   "metadata": {},
   "outputs": [
    {
     "data": {
      "application/vnd.vegalite.v3+json": {
       "$schema": "https://vega.github.io/schema/vega-lite/v3.4.0.json",
       "config": {
        "mark": {
         "tooltip": null
        },
        "view": {
         "height": 300,
         "width": 400
        }
       },
       "data": {
        "format": {
         "type": "json"
        },
        "url": "altair-data-5ea383c61f0e4ffba1b22b0bdea0a41b.json"
       },
       "layer": [
        {
         "encoding": {
          "x": {
           "field": "Country",
           "sort": [
            "France",
            "Spain",
            "England",
            "Germany",
            "Italy"
           ],
           "type": "nominal"
          },
          "y": {
           "field": "Shots",
           "type": "quantitative"
          }
         },
         "height": 300,
         "mark": {
          "color": "#91bfdb",
          "type": "bar"
         },
         "width": 500
        },
        {
         "encoding": {
          "x": {
           "field": "Country",
           "sort": [
            "France",
            "Spain",
            "England",
            "Germany",
            "Italy"
           ],
           "type": "nominal"
          },
          "y": {
           "field": "Goals",
           "type": "quantitative"
          }
         },
         "height": 300,
         "mark": {
          "color": "#4575b4",
          "type": "bar"
         },
         "width": 500
        }
       ],
       "resolve": {
        "scale": {
         "color": "independent"
        }
       }
      },
      "image/png": "[encoded data removed]",
      "text/plain": [
       "<VegaLite 3 object>\n",
       "\n",
       "If you see this message, it means the renderer has not been properly enabled\n",
       "for the frontend that you are using. For more information, see\n",
       "https://altair-viz.github.io/user_guide/troubleshooting.html\n"
      ]
     },
     "execution_count": 17,
     "metadata": {},
     "output_type": "execute_result"
    }
   ],
   "source": [
    "import altair as alt\n",
    "#alt.data_transformers.enable('json')\n",
    "base = alt.Chart(shotsGoals,width=500, height=300)\n",
    "colorPalette = ['#fc8d59','#fee090','#e0f3f8','#91bfdb','#4575b4']\n",
    "goals = base.mark_bar( color = colorPalette[-1]).encode(\n",
    "    x = alt.X('Country', sort=countries),\n",
    "    #y = 'Shots:Q',\n",
    "    y ='Goals:Q',\n",
    "    #color = 'Country:N'\n",
    ")\n",
    "shots = base.mark_bar( color = colorPalette[-2] ).encode(\n",
    "    x= alt.X('Country', sort=countries),\n",
    "    y='Shots:Q',\n",
    "    #color = 'Country:N'\n",
    "\n",
    ")\n",
    "\n",
    "alt.layer(\n",
    "shots, goals\n",
    ").resolve_scale('independent')"
   ]
  },
  {
   "cell_type": "markdown",
   "metadata": {},
   "source": [
    "\n",
    "# Classification"
   ]
  },
  {
   "cell_type": "code",
   "execution_count": null,
   "metadata": {},
   "outputs": [],
   "source": [
    "def get_goals_per_game(teamsData):\n",
    "    keys_team_data = list(teamsData.keys())\n",
    "    return {keys_team_data[0]:teamsData[keys_team_data[0]]['score'],keys_team_data[1]:teamsData[keys_team_data[1]]['score']}"
   ]
  },
  {
   "cell_type": "code",
   "execution_count": null,
   "metadata": {},
   "outputs": [],
   "source": [
    "def get_points_per_score(teamsData): #{'3783': 2, '3767': 1}    \n",
    "    keys_team_data = list(teamsData.keys())    \n",
    "    score_match = get_goals_per_game(teamsData)\n",
    "    if score_match[keys_team_data[0]]==score_match[keys_team_data[1]]:\n",
    "        return {keys_team_data[0]:1,keys_team_data[1]:1}\n",
    "    if score_match[keys_team_data[0]]>score_match[keys_team_data[1]]:\n",
    "        return {keys_team_data[0]:3,keys_team_data[1]:0}\n",
    "    if score_match[keys_team_data[0]]<score_match[keys_team_data[1]]:\n",
    "        return {keys_team_data[0]:0,keys_team_data[1]:3}"
   ]
  },
  {
   "cell_type": "code",
   "execution_count": null,
   "metadata": {},
   "outputs": [],
   "source": [
    "def get_points_round(round_matches):\n",
    "    matches_selected = round_matches.sort_values('gameweek')\n",
    "    dicts = matches_selected.apply(lambda x: get_points_per_score(x['teamsData']), axis=1)\n",
    "    return dict(ChainMap(*list(dicts)))"
   ]
  },
  {
   "cell_type": "code",
   "execution_count": null,
   "metadata": {},
   "outputs": [],
   "source": [
    "def get_points_league(matches):\n",
    "    all_rounds = {}\n",
    "    for gameweek, matches_played in matches.groupby('gameweek'):\n",
    "        all_rounds[gameweek]=get_points_round(matches_played)\n",
    "    return pd.DataFrame.from_dict(all_rounds)"
   ]
  },
  {
   "cell_type": "code",
   "execution_count": null,
   "metadata": {},
   "outputs": [],
   "source": [
    "# points = get_points_league(matches)"
   ]
  },
  {
   "cell_type": "code",
   "execution_count": null,
   "metadata": {},
   "outputs": [],
   "source": [
    "def get_points_aggregated_by_round(matches):\n",
    "    points = get_points_league(matches)\n",
    "    for round_i in range(2,len(points.columns)+1):\n",
    "        points[round_i]=points[[round_i-1,round_i]].sum(axis=1)\n",
    "    return points"
   ]
  },
  {
   "cell_type": "code",
   "execution_count": null,
   "metadata": {},
   "outputs": [],
   "source": [
    "# points_agg = get_points_aggregated_by_round(matches)"
   ]
  },
  {
   "cell_type": "code",
   "execution_count": null,
   "metadata": {},
   "outputs": [],
   "source": [
    "def get_classification_by_round(matches):\n",
    "    points_agg = get_points_aggregated_by_round(matches)\n",
    "    return points_agg.rank(method='first',ascending=False).astype(int)"
   ]
  },
  {
   "cell_type": "code",
   "execution_count": null,
   "metadata": {},
   "outputs": [],
   "source": [
    "#classification = get_classification_by_round(matches)"
   ]
  },
  {
   "cell_type": "code",
   "execution_count": null,
   "metadata": {},
   "outputs": [],
   "source": [
    "def get_frequency_of_position_changes(matches):\n",
    "    classification = get_classification_by_round(matches)\n",
    "    all_ranks = [rank for team in classification.values\n",
    "         for rank in [rank for i, rank in enumerate(team) \n",
    "            if i==0 or team[i-1]!=rank]]\n",
    "    unique, counts = np.unique(all_ranks, return_counts=True)\n",
    "    return pd.Series(dict(zip(unique, counts)))"
   ]
  },
  {
   "cell_type": "code",
   "execution_count": null,
   "metadata": {},
   "outputs": [],
   "source": [
    "import matplotlib.pyplot\n",
    "%matplotlib inline\n",
    "get_frequency_of_position_changes(matches).plot.barh()"
   ]
  },
  {
   "cell_type": "code",
   "execution_count": null,
   "metadata": {},
   "outputs": [],
   "source": [
    "# win / month"
   ]
  },
  {
   "cell_type": "markdown",
   "metadata": {},
   "source": [
    "# Players"
   ]
  },
  {
   "cell_type": "code",
   "execution_count": 90,
   "metadata": {},
   "outputs": [
    {
     "data": {
      "text/html": [
       "<div>\n",
       "<style scoped>\n",
       "    .dataframe tbody tr th:only-of-type {\n",
       "        vertical-align: middle;\n",
       "    }\n",
       "\n",
       "    .dataframe tbody tr th {\n",
       "        vertical-align: top;\n",
       "    }\n",
       "\n",
       "    .dataframe thead th {\n",
       "        text-align: right;\n",
       "    }\n",
       "</style>\n",
       "<table border=\"1\" class=\"dataframe\">\n",
       "  <thead>\n",
       "    <tr style=\"text-align: right;\">\n",
       "      <th></th>\n",
       "      <th>goalScored</th>\n",
       "      <th>matchId</th>\n",
       "      <th>minutesPlayed</th>\n",
       "      <th>playerId</th>\n",
       "      <th>playerankScore</th>\n",
       "      <th>roleCluster</th>\n",
       "    </tr>\n",
       "  </thead>\n",
       "  <tbody>\n",
       "    <tr>\n",
       "      <th>0</th>\n",
       "      <td>0</td>\n",
       "      <td>2057991</td>\n",
       "      <td>90</td>\n",
       "      <td>10014</td>\n",
       "      <td>0.0053</td>\n",
       "      <td>right CB</td>\n",
       "    </tr>\n",
       "    <tr>\n",
       "      <th>1</th>\n",
       "      <td>0</td>\n",
       "      <td>2057992</td>\n",
       "      <td>41</td>\n",
       "      <td>10014</td>\n",
       "      <td>0.0009</td>\n",
       "      <td>right CB</td>\n",
       "    </tr>\n",
       "    <tr>\n",
       "      <th>2</th>\n",
       "      <td>0</td>\n",
       "      <td>2057998</td>\n",
       "      <td>90</td>\n",
       "      <td>100140</td>\n",
       "      <td>-0.0013</td>\n",
       "      <td>central MF</td>\n",
       "    </tr>\n",
       "    <tr>\n",
       "      <th>3</th>\n",
       "      <td>0</td>\n",
       "      <td>2058000</td>\n",
       "      <td>90</td>\n",
       "      <td>100140</td>\n",
       "      <td>0.0031</td>\n",
       "      <td>left CB</td>\n",
       "    </tr>\n",
       "    <tr>\n",
       "      <th>4</th>\n",
       "      <td>0</td>\n",
       "      <td>2499869</td>\n",
       "      <td>90</td>\n",
       "      <td>10108</td>\n",
       "      <td>0.0035</td>\n",
       "      <td>right CB</td>\n",
       "    </tr>\n",
       "  </tbody>\n",
       "</table>\n",
       "</div>"
      ],
      "text/plain": [
       "   goalScored  matchId  minutesPlayed  playerId  playerankScore roleCluster\n",
       "0           0  2057991             90     10014          0.0053    right CB\n",
       "1           0  2057992             41     10014          0.0009    right CB\n",
       "2           0  2057998             90    100140         -0.0013  central MF\n",
       "3           0  2058000             90    100140          0.0031     left CB\n",
       "4           0  2499869             90     10108          0.0035    right CB"
      ]
     },
     "execution_count": 90,
     "metadata": {},
     "output_type": "execute_result"
    }
   ],
   "source": [
    "playerProfiles = pd.read_json('players/players.json')#.set_index('Id')    \n",
    "players = pd.read_json('players/playerank.json')#.set_index('Id')\n",
    "players.head()"
   ]
  },
  {
   "cell_type": "code",
   "execution_count": 91,
   "metadata": {},
   "outputs": [
    {
     "data": {
      "text/html": [
       "<div>\n",
       "<style scoped>\n",
       "    .dataframe tbody tr th:only-of-type {\n",
       "        vertical-align: middle;\n",
       "    }\n",
       "\n",
       "    .dataframe tbody tr th {\n",
       "        vertical-align: top;\n",
       "    }\n",
       "\n",
       "    .dataframe thead th {\n",
       "        text-align: right;\n",
       "    }\n",
       "</style>\n",
       "<table border=\"1\" class=\"dataframe\">\n",
       "  <thead>\n",
       "    <tr style=\"text-align: right;\">\n",
       "      <th></th>\n",
       "      <th>birthArea</th>\n",
       "      <th>birthDate</th>\n",
       "      <th>currentNationalTeamId</th>\n",
       "      <th>currentTeamId</th>\n",
       "      <th>firstName</th>\n",
       "      <th>foot</th>\n",
       "      <th>height</th>\n",
       "      <th>lastName</th>\n",
       "      <th>middleName</th>\n",
       "      <th>passportArea</th>\n",
       "      <th>role</th>\n",
       "      <th>shortName</th>\n",
       "      <th>weight</th>\n",
       "      <th>wyId</th>\n",
       "    </tr>\n",
       "  </thead>\n",
       "  <tbody>\n",
       "    <tr>\n",
       "      <th>0</th>\n",
       "      <td>{'name': 'Turkey', 'id': '792', 'alpha3code': ...</td>\n",
       "      <td>1989-06-17</td>\n",
       "      <td>4687</td>\n",
       "      <td>4502</td>\n",
       "      <td>Harun</td>\n",
       "      <td>right</td>\n",
       "      <td>187</td>\n",
       "      <td>Tekin</td>\n",
       "      <td></td>\n",
       "      <td>{'name': 'Turkey', 'id': '792', 'alpha3code': ...</td>\n",
       "      <td>{'code2': 'GK', 'code3': 'GKP', 'name': 'Goalk...</td>\n",
       "      <td>H. Tekin</td>\n",
       "      <td>78</td>\n",
       "      <td>32777</td>\n",
       "    </tr>\n",
       "    <tr>\n",
       "      <th>1</th>\n",
       "      <td>{'name': 'France', 'id': '250', 'alpha3code': ...</td>\n",
       "      <td>1999-01-23</td>\n",
       "      <td>4423</td>\n",
       "      <td>3775</td>\n",
       "      <td>Malang</td>\n",
       "      <td>left</td>\n",
       "      <td>182</td>\n",
       "      <td>Sarr</td>\n",
       "      <td></td>\n",
       "      <td>{'name': 'Senegal', 'id': '686', 'alpha3code':...</td>\n",
       "      <td>{'code2': 'DF', 'code3': 'DEF', 'name': 'Defen...</td>\n",
       "      <td>M. Sarr</td>\n",
       "      <td>73</td>\n",
       "      <td>393228</td>\n",
       "    </tr>\n",
       "    <tr>\n",
       "      <th>2</th>\n",
       "      <td>{'name': 'France', 'id': '250', 'alpha3code': ...</td>\n",
       "      <td>1998-10-26</td>\n",
       "      <td>null</td>\n",
       "      <td>3772</td>\n",
       "      <td>Over</td>\n",
       "      <td></td>\n",
       "      <td>176</td>\n",
       "      <td>Mandanda</td>\n",
       "      <td></td>\n",
       "      <td>{'name': 'France', 'id': '250', 'alpha3code': ...</td>\n",
       "      <td>{'code2': 'GK', 'code3': 'GKP', 'name': 'Goalk...</td>\n",
       "      <td>O. Mandanda</td>\n",
       "      <td>72</td>\n",
       "      <td>393230</td>\n",
       "    </tr>\n",
       "    <tr>\n",
       "      <th>3</th>\n",
       "      <td>{'name': 'France', 'id': '250', 'alpha3code': ...</td>\n",
       "      <td>1990-03-06</td>\n",
       "      <td>19314</td>\n",
       "      <td>683</td>\n",
       "      <td>Alfred John Momar</td>\n",
       "      <td>right</td>\n",
       "      <td>187</td>\n",
       "      <td>N'Diaye</td>\n",
       "      <td></td>\n",
       "      <td>{'name': 'Senegal', 'id': '686', 'alpha3code':...</td>\n",
       "      <td>{'code2': 'MD', 'code3': 'MID', 'name': 'Midfi...</td>\n",
       "      <td>A. N'Diaye</td>\n",
       "      <td>82</td>\n",
       "      <td>32793</td>\n",
       "    </tr>\n",
       "    <tr>\n",
       "      <th>4</th>\n",
       "      <td>{'name': 'France', 'id': '250', 'alpha3code': ...</td>\n",
       "      <td>1999-05-25</td>\n",
       "      <td>null</td>\n",
       "      <td>2975</td>\n",
       "      <td>Ibrahima</td>\n",
       "      <td>right</td>\n",
       "      <td>192</td>\n",
       "      <td>Konat\\u00e9</td>\n",
       "      <td></td>\n",
       "      <td>{'name': 'France', 'id': '250', 'alpha3code': ...</td>\n",
       "      <td>{'code2': 'DF', 'code3': 'DEF', 'name': 'Defen...</td>\n",
       "      <td>I. Konat\\u00e9</td>\n",
       "      <td>84</td>\n",
       "      <td>393247</td>\n",
       "    </tr>\n",
       "  </tbody>\n",
       "</table>\n",
       "</div>"
      ],
      "text/plain": [
       "                                           birthArea   birthDate  \\\n",
       "0  {'name': 'Turkey', 'id': '792', 'alpha3code': ...  1989-06-17   \n",
       "1  {'name': 'France', 'id': '250', 'alpha3code': ...  1999-01-23   \n",
       "2  {'name': 'France', 'id': '250', 'alpha3code': ...  1998-10-26   \n",
       "3  {'name': 'France', 'id': '250', 'alpha3code': ...  1990-03-06   \n",
       "4  {'name': 'France', 'id': '250', 'alpha3code': ...  1999-05-25   \n",
       "\n",
       "  currentNationalTeamId currentTeamId          firstName   foot  height  \\\n",
       "0                  4687          4502              Harun  right     187   \n",
       "1                  4423          3775             Malang   left     182   \n",
       "2                  null          3772               Over            176   \n",
       "3                 19314           683  Alfred John Momar  right     187   \n",
       "4                  null          2975           Ibrahima  right     192   \n",
       "\n",
       "      lastName middleName                                       passportArea  \\\n",
       "0        Tekin             {'name': 'Turkey', 'id': '792', 'alpha3code': ...   \n",
       "1         Sarr             {'name': 'Senegal', 'id': '686', 'alpha3code':...   \n",
       "2     Mandanda             {'name': 'France', 'id': '250', 'alpha3code': ...   \n",
       "3      N'Diaye             {'name': 'Senegal', 'id': '686', 'alpha3code':...   \n",
       "4  Konat\\u00e9             {'name': 'France', 'id': '250', 'alpha3code': ...   \n",
       "\n",
       "                                                role       shortName  weight  \\\n",
       "0  {'code2': 'GK', 'code3': 'GKP', 'name': 'Goalk...        H. Tekin      78   \n",
       "1  {'code2': 'DF', 'code3': 'DEF', 'name': 'Defen...         M. Sarr      73   \n",
       "2  {'code2': 'GK', 'code3': 'GKP', 'name': 'Goalk...     O. Mandanda      72   \n",
       "3  {'code2': 'MD', 'code3': 'MID', 'name': 'Midfi...      A. N'Diaye      82   \n",
       "4  {'code2': 'DF', 'code3': 'DEF', 'name': 'Defen...  I. Konat\\u00e9      84   \n",
       "\n",
       "     wyId  \n",
       "0   32777  \n",
       "1  393228  \n",
       "2  393230  \n",
       "3   32793  \n",
       "4  393247  "
      ]
     },
     "execution_count": 91,
     "metadata": {},
     "output_type": "execute_result"
    }
   ],
   "source": [
    "playerProfiles.head()"
   ]
  },
  {
   "cell_type": "code",
   "execution_count": 88,
   "metadata": {},
   "outputs": [
    {
     "data": {
      "text/html": [
       "<div>\n",
       "<style scoped>\n",
       "    .dataframe tbody tr th:only-of-type {\n",
       "        vertical-align: middle;\n",
       "    }\n",
       "\n",
       "    .dataframe tbody tr th {\n",
       "        vertical-align: top;\n",
       "    }\n",
       "\n",
       "    .dataframe thead th {\n",
       "        text-align: right;\n",
       "    }\n",
       "</style>\n",
       "<table border=\"1\" class=\"dataframe\">\n",
       "  <thead>\n",
       "    <tr style=\"text-align: right;\">\n",
       "      <th></th>\n",
       "      <th>goalScored</th>\n",
       "      <th>matchId</th>\n",
       "      <th>minutesPlayed</th>\n",
       "      <th>playerankScore</th>\n",
       "    </tr>\n",
       "    <tr>\n",
       "      <th>playerId</th>\n",
       "      <th></th>\n",
       "      <th></th>\n",
       "      <th></th>\n",
       "      <th></th>\n",
       "    </tr>\n",
       "  </thead>\n",
       "  <tbody>\n",
       "    <tr>\n",
       "      <th>12</th>\n",
       "      <td>0.000000</td>\n",
       "      <td>2.057976e+06</td>\n",
       "      <td>90.000000</td>\n",
       "      <td>0.010700</td>\n",
       "    </tr>\n",
       "    <tr>\n",
       "      <th>36</th>\n",
       "      <td>0.041667</td>\n",
       "      <td>2.221588e+06</td>\n",
       "      <td>90.000000</td>\n",
       "      <td>0.008550</td>\n",
       "    </tr>\n",
       "    <tr>\n",
       "      <th>38</th>\n",
       "      <td>0.000000</td>\n",
       "      <td>2.499824e+06</td>\n",
       "      <td>86.750000</td>\n",
       "      <td>0.001000</td>\n",
       "    </tr>\n",
       "    <tr>\n",
       "      <th>45</th>\n",
       "      <td>0.000000</td>\n",
       "      <td>2.576110e+06</td>\n",
       "      <td>57.600000</td>\n",
       "      <td>0.001180</td>\n",
       "    </tr>\n",
       "    <tr>\n",
       "      <th>48</th>\n",
       "      <td>0.021739</td>\n",
       "      <td>2.372222e+06</td>\n",
       "      <td>89.217391</td>\n",
       "      <td>0.011824</td>\n",
       "    </tr>\n",
       "  </tbody>\n",
       "</table>\n",
       "</div>"
      ],
      "text/plain": [
       "          goalScored       matchId  minutesPlayed  playerankScore\n",
       "playerId                                                         \n",
       "12          0.000000  2.057976e+06      90.000000        0.010700\n",
       "36          0.041667  2.221588e+06      90.000000        0.008550\n",
       "38          0.000000  2.499824e+06      86.750000        0.001000\n",
       "45          0.000000  2.576110e+06      57.600000        0.001180\n",
       "48          0.021739  2.372222e+06      89.217391        0.011824"
      ]
     },
     "execution_count": 88,
     "metadata": {},
     "output_type": "execute_result"
    }
   ],
   "source": [
    "playerRank = players.groupby('playerId').mean()\n",
    "playerRank.head()"
   ]
  },
  {
   "cell_type": "code",
   "execution_count": 89,
   "metadata": {},
   "outputs": [
    {
     "data": {
      "text/plain": [
       "2719"
      ]
     },
     "execution_count": 89,
     "metadata": {},
     "output_type": "execute_result"
    }
   ],
   "source": [
    "import altair as alt\n",
    "\n",
    "len(playerRank)"
   ]
  },
  {
   "cell_type": "code",
   "execution_count": null,
   "metadata": {},
   "outputs": [],
   "source": []
  }
 ],
 "metadata": {
  "kernelspec": {
   "display_name": "Python 3",
   "language": "python",
   "name": "python3"
  },
  "language_info": {
   "codemirror_mode": {
    "name": "ipython",
    "version": 3
   },
   "file_extension": ".py",
   "mimetype": "text/x-python",
   "name": "python",
   "nbconvert_exporter": "python",
   "pygments_lexer": "ipython3",
   "version": "3.7.3"
  }
 },
 "nbformat": 4,
 "nbformat_minor": 4
}
