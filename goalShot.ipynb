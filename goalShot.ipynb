{
 "cells": [
  {
   "cell_type": "markdown",
   "metadata": {},
   "source": [
    "Download events (/events/) & matches (/matches/) & players (./players.json) from https://figshare.com/collections/Soccer_match_event_dataset/4415000/3"
   ]
  },
  {
   "cell_type": "code",
   "execution_count": 2,
   "metadata": {},
   "outputs": [],
   "source": [
    "import pandas as pd\n",
    "import numpy as np\n",
    "from collections import ChainMap\n",
    "competition = 'Spain'\n",
    "#events = pd.read_json('events/events_{}.json'.format(competition)).set_index('id')\n",
    "#matches = pd.read_json('matches/matches_{}.json'.format(competition)).set_index('wyId')\n",
    "#players = pd.read_json('players/players.json').set_index('wyId')"
   ]
  },
  {
   "cell_type": "code",
   "execution_count": 6,
   "metadata": {},
   "outputs": [
    {
     "data": {
      "text/plain": [
       "array(['Reflexes', 'Save attempt'], dtype=object)"
      ]
     },
     "execution_count": 6,
     "metadata": {},
     "output_type": "execute_result"
    }
   ],
   "source": [
    "np.unique(events[events.eventName == 'Save attempt'].subEventName)"
   ]
  },
  {
   "cell_type": "code",
   "execution_count": 11,
   "metadata": {},
   "outputs": [
    {
     "data": {
      "text/plain": [
       "array(['Duel', 'Foul', 'Free Kick', 'Goalkeeper leaving line',\n",
       "       'Interruption', 'Offside', 'Others on the ball', 'Pass',\n",
       "       'Save attempt', 'Shot'], dtype=object)"
      ]
     },
     "execution_count": 11,
     "metadata": {},
     "output_type": "execute_result"
    }
   ],
   "source": [
    "np.unique(events.eventName)"
   ]
  },
  {
   "cell_type": "code",
   "execution_count": 12,
   "metadata": {},
   "outputs": [
    {
     "data": {
      "text/plain": [
       "array(['Corner', 'Free Kick', 'Free kick cross', 'Free kick shot',\n",
       "       'Goal kick', 'Penalty', 'Throw in'], dtype=object)"
      ]
     },
     "execution_count": 12,
     "metadata": {},
     "output_type": "execute_result"
    }
   ],
   "source": [
    "np.unique( events[events.eventName=='Free Kick'].subEventName)"
   ]
  },
  {
   "cell_type": "markdown",
   "metadata": {},
   "source": [
    "# Matches "
   ]
  },
  {
   "cell_type": "code",
   "execution_count": null,
   "metadata": {},
   "outputs": [],
   "source": [
    "def filter_last_minutes_events(events, matchId, minutes=10):\n",
    "    return events[(events['matchId']==matchId) & (events['matchPeriod']=='2H') & (events['eventSec']>(45-minutes)*60)]"
   ]
  },
  {
   "cell_type": "code",
   "execution_count": null,
   "metadata": {},
   "outputs": [],
   "source": [
    "minutes = 10"
   ]
  },
  {
   "cell_type": "code",
   "execution_count": 3,
   "metadata": {},
   "outputs": [
    {
     "name": "stdout",
     "output_type": "stream",
     "text": [
      "England\n",
      "France\n",
      "Germany\n",
      "Spain\n",
      "Italy\n"
     ]
    },
    {
     "data": {
      "text/plain": [
       "([23.775933609958507,\n",
       "  23.838028169014084,\n",
       "  24.268817204301076,\n",
       "  22.535971223021583,\n",
       "  24.580152671755727],\n",
       " [1.095890410958904,\n",
       "  1.1517857142857142,\n",
       "  1.1772151898734178,\n",
       "  1.13,\n",
       "  1.1559633027522935],\n",
       " [1.4522821576763485,\n",
       "  1.8345070422535212,\n",
       "  1.60752688172043,\n",
       "  1.629496402877698,\n",
       "  1.583969465648855],\n",
       " [5.63395225464191,\n",
       "  5.406914893617022,\n",
       "  5.970394736842105,\n",
       "  5.63129973474801,\n",
       "  5.562334217506631],\n",
       " [21.41578947368421,\n",
       "  26.847368421052632,\n",
       "  28.287581699346404,\n",
       "  28.855263157894736,\n",
       "  26.3])"
      ]
     },
     "execution_count": 3,
     "metadata": {},
     "output_type": "execute_result"
    }
   ],
   "source": [
    "def get_shots_season(events, shots, fks, penalties, saves, fouls):\n",
    "    events = events[['eventName', 'subEventName', 'matchId']]\n",
    "    events_shot = events[events.eventName == 'Shot']\n",
    "    events_fk = events[(events.subEventName == 'Free kick shot')] # & (events.subEventName == 'Free kick cross')]\n",
    "    events_penalty = events[events.subEventName == 'Penalty']\n",
    "    events_save = events[events.subEventName == 'Reflexes']\n",
    "    events_foul = events[events.eventName == 'Foul']\n",
    "    del events\n",
    "    #fkShots = ['Free kick shot', 'Penalty']\n",
    "    #events_fk = events[ (events.eventName == 'Free Kick') & (events.subEventName.isin(fkShots) )]\n",
    "    events_shot['Shots'] = events_shot.apply(lambda _: '1', axis=1)\n",
    "    events_fk['FreeKicks'] = events_fk.apply(lambda _: '1', axis=1)\n",
    "    events_penalty['Penalties'] = events_penalty.apply(lambda _: '1', axis=1)\n",
    "    events_save['Saves'] = events_save.apply(lambda _: '1', axis=1)\n",
    "    events_foul['Fouls'] = events_foul.apply(lambda _: '1', axis=1)\n",
    "    \n",
    "    fkShotsMatch = events_fk[['matchId','FreeKicks']].groupby('matchId').count()\n",
    "    shotsMatch = events_shot[['matchId','Shots']].groupby('matchId').count()\n",
    "    penaltiesMatch = events_penalty[['matchId','Penalties']].groupby('matchId').count()\n",
    "    savesMatch = events_save[['matchId','Saves']].groupby('matchId').count()\n",
    "    foulsMatch = events_foul[['matchId','Fouls']].groupby('matchId').count()\n",
    "    \n",
    "    del events_shot\n",
    "    del events_fk\n",
    "    del events_penalty\n",
    "    del events_save\n",
    "    \n",
    "    fks.append(np.mean(fkShotsMatch.FreeKicks))\n",
    "    penalties.append(np.mean(penaltiesMatch.Penalties))\n",
    "    saves.append(np.mean(savesMatch.Saves))\n",
    "    fouls.append(np.mean(foulsMatch.Fouls))\n",
    "    #print (fks, penalties, saves, fouls)\n",
    "    \n",
    "    shotsDf = pd.merge(fkShotsMatch, shotsMatch, on ='matchId')\n",
    "    #print(shotsDf.head())\n",
    "    shotsDf['Total'] = shotsDf.FreeKicks + shotsDf.Shots\n",
    "    #print(shots.Total)\n",
    "    shots.append(np.mean(shotsDf.Total))\n",
    "    #shots.append([np.mean(shots_array), np.std(shots_array)])\n",
    "    return\n",
    "\n",
    "shots = []\n",
    "fks = []\n",
    "penalties = []\n",
    "saves = []\n",
    "fouls = []\n",
    "#get_shots_season(events, shots, penalties, fks, saves, fouls)\n",
    "countries = ['England', 'France', 'Germany', 'Spain', 'Italy']\n",
    "for country in countries:\n",
    "    print(country)\n",
    "    events = pd.read_json('events/events_{}.json'.format(country)).set_index('id')\n",
    "    #get_shots_season(events,shots)\n",
    "    get_shots_season(events, shots, penalties, fks, saves, fouls)\n",
    "    #del events\n",
    "shots, fks, penalties, saves, fouls"
   ]
  },
  {
   "cell_type": "code",
   "execution_count": 4,
   "metadata": {},
   "outputs": [
    {
     "name": "stdout",
     "output_type": "stream",
     "text": [
      "England 32 380 0.08421052631578947\n",
      "France 21 380 0.05526315789473684\n",
      "Germany 21 306 0.06862745098039216\n",
      "Spain 28 380 0.07368421052631578\n",
      "Italy 28 380 0.07368421052631578\n",
      "[8.421052631578947, 5.526315789473684, 6.862745098039216, 7.368421052631578, 7.368421052631578]\n"
     ]
    }
   ],
   "source": [
    "import pandas as pd\n",
    "competitions = ['England', 'France', 'Germany', 'Spain', 'Italy']\n",
    "\n",
    "\n",
    "goalless = []\n",
    "for competition in competitions:\n",
    "    matches = pd.read_json('matches/matches_{}.json'.format(competition)).set_index('wyId')\n",
    "\n",
    "    zz = 0\n",
    "    for line in matches['teamsData']:\n",
    "        k = list(line.keys())\n",
    "        if line[k[0]]['score'] == 0 and line[k[1]]['score'] == 0:\n",
    "            zz += 1\n",
    "    print(competition, zz, len(matches), zz/len(matches))\n",
    "    goalless.append(zz/len(matches)*100)\n",
    "print(goalless)    "
   ]
  },
  {
   "cell_type": "code",
   "execution_count": 5,
   "metadata": {},
   "outputs": [
    {
     "name": "stdout",
     "output_type": "stream",
     "text": [
      "England\n",
      "France\n",
      "Germany\n",
      "Spain\n",
      "Italy\n"
     ]
    },
    {
     "data": {
      "text/plain": [
       "[2.6789473684210527,\n",
       " 2.718421052631579,\n",
       " 2.7941176470588234,\n",
       " 2.694736842105263,\n",
       " 2.6763157894736844]"
      ]
     },
     "execution_count": 5,
     "metadata": {},
     "output_type": "execute_result"
    }
   ],
   "source": [
    "def get_goals_season(matches, goalList):\n",
    "    goalArray = []\n",
    "    for i in range(len(matches)):\n",
    "        scoreString = np.array(matches.label.iloc[i].split())[-3:]\n",
    "        goalArray.append(int(scoreString[0]) + int(scoreString[2]))\n",
    "    goalList.append(np.mean(goalArray))\n",
    "    return\n",
    "    \n",
    "countries = ['England', 'France', 'Germany', 'Spain', 'Italy']\n",
    "goals = []\n",
    "for country in countries:\n",
    "    matches = pd.read_json('matches/matches_{}.json'.format(country)).set_index('wyId')\n",
    "    get_goals_season(matches, goals)\n",
    "    print(country)\n",
    "goals"
   ]
  },
  {
   "cell_type": "code",
   "execution_count": 7,
   "metadata": {},
   "outputs": [
    {
     "data": {
      "text/html": [
       "<div>\n",
       "<style scoped>\n",
       "    .dataframe tbody tr th:only-of-type {\n",
       "        vertical-align: middle;\n",
       "    }\n",
       "\n",
       "    .dataframe tbody tr th {\n",
       "        vertical-align: top;\n",
       "    }\n",
       "\n",
       "    .dataframe thead th {\n",
       "        text-align: right;\n",
       "    }\n",
       "</style>\n",
       "<table border=\"1\" class=\"dataframe\">\n",
       "  <thead>\n",
       "    <tr style=\"text-align: right;\">\n",
       "      <th></th>\n",
       "      <th>Country</th>\n",
       "      <th>Goals</th>\n",
       "      <th>Shots</th>\n",
       "      <th>Freekicks</th>\n",
       "      <th>Penalties</th>\n",
       "      <th>Saves</th>\n",
       "      <th>Fouls</th>\n",
       "    </tr>\n",
       "  </thead>\n",
       "  <tbody>\n",
       "    <tr>\n",
       "      <th>0</th>\n",
       "      <td>England</td>\n",
       "      <td>2.678947</td>\n",
       "      <td>23.775934</td>\n",
       "      <td>1.095890</td>\n",
       "      <td>1.452282</td>\n",
       "      <td>5.633952</td>\n",
       "      <td>21.415789</td>\n",
       "    </tr>\n",
       "    <tr>\n",
       "      <th>1</th>\n",
       "      <td>France</td>\n",
       "      <td>2.718421</td>\n",
       "      <td>23.838028</td>\n",
       "      <td>1.151786</td>\n",
       "      <td>1.834507</td>\n",
       "      <td>5.406915</td>\n",
       "      <td>26.847368</td>\n",
       "    </tr>\n",
       "    <tr>\n",
       "      <th>2</th>\n",
       "      <td>Germany</td>\n",
       "      <td>2.794118</td>\n",
       "      <td>24.268817</td>\n",
       "      <td>1.177215</td>\n",
       "      <td>1.607527</td>\n",
       "      <td>5.970395</td>\n",
       "      <td>28.287582</td>\n",
       "    </tr>\n",
       "    <tr>\n",
       "      <th>3</th>\n",
       "      <td>Spain</td>\n",
       "      <td>2.694737</td>\n",
       "      <td>22.535971</td>\n",
       "      <td>1.130000</td>\n",
       "      <td>1.629496</td>\n",
       "      <td>5.631300</td>\n",
       "      <td>28.855263</td>\n",
       "    </tr>\n",
       "    <tr>\n",
       "      <th>4</th>\n",
       "      <td>Italy</td>\n",
       "      <td>2.676316</td>\n",
       "      <td>24.580153</td>\n",
       "      <td>1.155963</td>\n",
       "      <td>1.583969</td>\n",
       "      <td>5.562334</td>\n",
       "      <td>26.300000</td>\n",
       "    </tr>\n",
       "  </tbody>\n",
       "</table>\n",
       "</div>"
      ],
      "text/plain": [
       "   Country     Goals      Shots  Freekicks  Penalties     Saves      Fouls\n",
       "0  England  2.678947  23.775934   1.095890   1.452282  5.633952  21.415789\n",
       "1   France  2.718421  23.838028   1.151786   1.834507  5.406915  26.847368\n",
       "2  Germany  2.794118  24.268817   1.177215   1.607527  5.970395  28.287582\n",
       "3    Spain  2.694737  22.535971   1.130000   1.629496  5.631300  28.855263\n",
       "4    Italy  2.676316  24.580153   1.155963   1.583969  5.562334  26.300000"
      ]
     },
     "execution_count": 7,
     "metadata": {},
     "output_type": "execute_result"
    }
   ],
   "source": [
    "shots = np.array(shots)\n",
    "goals = np.array(goals)\n",
    "\n",
    "#shotsGoals = pd.DataFrame({'Country':countries , 'Goals':goals[:,0], 'GoalsStd':goals[:,1],'Shots':shots[:,0], 'ShotsStd':shots[:,1]})\n",
    "matchDf = pd.DataFrame({'Country':countries , 'Goals':goals, 'Shots':shots, 'Freekicks':fks, 'Penalties':penalties, 'Saves':saves, 'Fouls':fouls})\n",
    "#\n",
    "matchDf.head()"
   ]
  },
  {
   "cell_type": "code",
   "execution_count": 41,
   "metadata": {},
   "outputs": [
    {
     "data": {
      "text/html": [
       "<div>\n",
       "<style scoped>\n",
       "    .dataframe tbody tr th:only-of-type {\n",
       "        vertical-align: middle;\n",
       "    }\n",
       "\n",
       "    .dataframe tbody tr th {\n",
       "        vertical-align: top;\n",
       "    }\n",
       "\n",
       "    .dataframe thead th {\n",
       "        text-align: right;\n",
       "    }\n",
       "</style>\n",
       "<table border=\"1\" class=\"dataframe\">\n",
       "  <thead>\n",
       "    <tr style=\"text-align: right;\">\n",
       "      <th></th>\n",
       "      <th>Properties</th>\n",
       "      <th>Value</th>\n",
       "      <th>Average</th>\n",
       "      <th>isAboveMean</th>\n",
       "    </tr>\n",
       "  </thead>\n",
       "  <tbody>\n",
       "    <tr>\n",
       "      <th>0</th>\n",
       "      <td>Goals</td>\n",
       "      <td>2.694737</td>\n",
       "      <td>2.712508</td>\n",
       "      <td>False</td>\n",
       "    </tr>\n",
       "    <tr>\n",
       "      <th>1</th>\n",
       "      <td>Shots</td>\n",
       "      <td>22.535971</td>\n",
       "      <td>23.799781</td>\n",
       "      <td>False</td>\n",
       "    </tr>\n",
       "    <tr>\n",
       "      <th>2</th>\n",
       "      <td>Freekicks</td>\n",
       "      <td>1.130000</td>\n",
       "      <td>1.142171</td>\n",
       "      <td>False</td>\n",
       "    </tr>\n",
       "    <tr>\n",
       "      <th>3</th>\n",
       "      <td>Penalties</td>\n",
       "      <td>1.629496</td>\n",
       "      <td>1.621556</td>\n",
       "      <td>True</td>\n",
       "    </tr>\n",
       "    <tr>\n",
       "      <th>4</th>\n",
       "      <td>Saves</td>\n",
       "      <td>5.631300</td>\n",
       "      <td>5.640979</td>\n",
       "      <td>False</td>\n",
       "    </tr>\n",
       "    <tr>\n",
       "      <th>5</th>\n",
       "      <td>Fouls</td>\n",
       "      <td>28.855263</td>\n",
       "      <td>26.341201</td>\n",
       "      <td>True</td>\n",
       "    </tr>\n",
       "  </tbody>\n",
       "</table>\n",
       "</div>"
      ],
      "text/plain": [
       "  Properties      Value    Average  isAboveMean\n",
       "0      Goals   2.694737   2.712508        False\n",
       "1      Shots  22.535971  23.799781        False\n",
       "2  Freekicks   1.130000   1.142171        False\n",
       "3  Penalties   1.629496   1.621556         True\n",
       "4      Saves   5.631300   5.640979        False\n",
       "5      Fouls  28.855263  26.341201         True"
      ]
     },
     "execution_count": 41,
     "metadata": {},
     "output_type": "execute_result"
    }
   ],
   "source": [
    "properties = ['Goals', 'Shots', 'Freekicks', 'Penalties', 'Saves','Fouls' ]\n",
    "value = np.array([goals[3], shots[3], fks[3], penalties[3], saves[3], fouls[3]])\n",
    "averages = np.array([np.mean(goals), np.mean(shots), np.mean(fks), np.mean(penalties), np.mean(saves), np.mean(fouls)])\n",
    "SpainDf = pd.DataFrame({'Properties':properties, 'Value':value, 'Average':averages})\n",
    "SpainDf['isAboveMean'] = spain > averages\n",
    "SpainDisplay = SpainDf[['Properties', 'Value', 'isAboveMean']].to_json('spain_matches.json')\n",
    "SpainDf"
   ]
  },
  {
   "cell_type": "code",
   "execution_count": 42,
   "metadata": {},
   "outputs": [
    {
     "data": {
      "text/html": [
       "<div>\n",
       "<style scoped>\n",
       "    .dataframe tbody tr th:only-of-type {\n",
       "        vertical-align: middle;\n",
       "    }\n",
       "\n",
       "    .dataframe tbody tr th {\n",
       "        vertical-align: top;\n",
       "    }\n",
       "\n",
       "    .dataframe thead th {\n",
       "        text-align: right;\n",
       "    }\n",
       "</style>\n",
       "<table border=\"1\" class=\"dataframe\">\n",
       "  <thead>\n",
       "    <tr style=\"text-align: right;\">\n",
       "      <th>Properties</th>\n",
       "      <th>Fouls</th>\n",
       "      <th>Freekicks</th>\n",
       "      <th>Goals</th>\n",
       "      <th>Penalties</th>\n",
       "      <th>Saves</th>\n",
       "      <th>Shots</th>\n",
       "    </tr>\n",
       "  </thead>\n",
       "  <tbody>\n",
       "    <tr>\n",
       "      <th>Average</th>\n",
       "      <td>26.3412</td>\n",
       "      <td>1.14217</td>\n",
       "      <td>2.71251</td>\n",
       "      <td>1.62156</td>\n",
       "      <td>5.64098</td>\n",
       "      <td>23.7998</td>\n",
       "    </tr>\n",
       "    <tr>\n",
       "      <th>Value</th>\n",
       "      <td>28.8553</td>\n",
       "      <td>1.13</td>\n",
       "      <td>2.69474</td>\n",
       "      <td>1.6295</td>\n",
       "      <td>5.6313</td>\n",
       "      <td>22.536</td>\n",
       "    </tr>\n",
       "    <tr>\n",
       "      <th>isAboveMean</th>\n",
       "      <td>True</td>\n",
       "      <td>False</td>\n",
       "      <td>False</td>\n",
       "      <td>True</td>\n",
       "      <td>False</td>\n",
       "      <td>False</td>\n",
       "    </tr>\n",
       "  </tbody>\n",
       "</table>\n",
       "</div>"
      ],
      "text/plain": [
       "Properties     Fouls Freekicks    Goals Penalties    Saves    Shots\n",
       "Average      26.3412   1.14217  2.71251   1.62156  5.64098  23.7998\n",
       "Value        28.8553      1.13  2.69474    1.6295   5.6313   22.536\n",
       "isAboveMean     True     False    False      True    False    False"
      ]
     },
     "execution_count": 42,
     "metadata": {},
     "output_type": "execute_result"
    }
   ],
   "source": [
    "SpainDf.pivot_table(columns = 'Properties')"
   ]
  },
  {
   "cell_type": "code",
   "execution_count": 43,
   "metadata": {},
   "outputs": [
    {
     "data": {
      "application/vnd.vegalite.v3+json": {
       "$schema": "https://vega.github.io/schema/vega-lite/v3.4.0.json",
       "config": {
        "mark": {
         "tooltip": null
        },
        "view": {
         "height": 300,
         "width": 400
        }
       },
       "data": {
        "name": "data-af864ca73590e34c419628001b0abf47"
       },
       "datasets": {
        "data-af864ca73590e34c419628001b0abf47": [
         {
          "Country": "England",
          "Fouls": 21.41578947368421,
          "Freekicks": 1.095890410958904,
          "Goals": 2.6789473684210527,
          "Penalties": 1.4522821576763485,
          "Saves": 5.63395225464191,
          "Shots": 23.775933609958507
         },
         {
          "Country": "France",
          "Fouls": 26.847368421052632,
          "Freekicks": 1.1517857142857142,
          "Goals": 2.718421052631579,
          "Penalties": 1.8345070422535212,
          "Saves": 5.406914893617022,
          "Shots": 23.838028169014084
         },
         {
          "Country": "Germany",
          "Fouls": 28.287581699346404,
          "Freekicks": 1.1772151898734178,
          "Goals": 2.7941176470588234,
          "Penalties": 1.60752688172043,
          "Saves": 5.970394736842105,
          "Shots": 24.268817204301076
         },
         {
          "Country": "Spain",
          "Fouls": 28.855263157894736,
          "Freekicks": 1.13,
          "Goals": 2.694736842105263,
          "Penalties": 1.629496402877698,
          "Saves": 5.63129973474801,
          "Shots": 22.535971223021583
         },
         {
          "Country": "Italy",
          "Fouls": 26.3,
          "Freekicks": 1.1559633027522935,
          "Goals": 2.6763157894736844,
          "Penalties": 1.583969465648855,
          "Saves": 5.562334217506631,
          "Shots": 24.580152671755727
         }
        ]
       },
       "layer": [
        {
         "encoding": {
          "x": {
           "field": "Shots",
           "type": "quantitative"
          },
          "y": {
           "field": "Country",
           "type": "nominal"
          }
         },
         "mark": {
          "color": "#4575b4",
          "type": "bar"
         }
        },
        {
         "encoding": {
          "x": {
           "field": "Goals",
           "type": "quantitative"
          },
          "y": {
           "field": "Country",
           "type": "nominal"
          }
         },
         "mark": {
          "color": "#91bfdb",
          "type": "bar"
         }
        }
       ],
       "resolve": {
        "scale": {
         "color": "independent"
        }
       }
      },
      "image/png": "[encoded data removed]",
      "text/plain": [
       "<VegaLite 3 object>\n",
       "\n",
       "If you see this message, it means the renderer has not been properly enabled\n",
       "for the frontend that you are using. For more information, see\n",
       "https://altair-viz.github.io/user_guide/troubleshooting.html\n"
      ]
     },
     "execution_count": 43,
     "metadata": {},
     "output_type": "execute_result"
    }
   ],
   "source": [
    "import altair as alt\n",
    "colorPalette = ['#fc8d59','#fee090','#e0f3f8','#91bfdb','#4575b4']\n",
    "baseALL = alt.Chart(matchDf)\n",
    "goalsALT = baseALL.mark_bar(color = colorPalette[-2]).encode(\n",
    "    y = alt.X('Country:N'),\n",
    "    x = alt.Y('Goals:Q')\n",
    ")\n",
    "\n",
    "shotsALT = baseALL.mark_bar(color = colorPalette[-1]).encode(\n",
    "    y = alt.X('Country:N'),\n",
    "    x = alt.Y('Shots:Q')\n",
    ")\n",
    "\n",
    "alt.layer(\n",
    "shotsALT, goalsALT\n",
    ").resolve_scale('independent')"
   ]
  },
  {
   "cell_type": "code",
   "execution_count": 15,
   "metadata": {},
   "outputs": [
    {
     "data": {
      "application/vnd.vegalite.v3+json": {
       "$schema": "https://vega.github.io/schema/vega-lite/v3.4.0.json",
       "config": {
        "mark": {
         "tooltip": null
        },
        "view": {
         "height": 300,
         "width": 400
        }
       },
       "data": {
        "name": "data-0959157e5f0407f17a9aabcbaf3c4ba7"
       },
       "datasets": {
        "data-0959157e5f0407f17a9aabcbaf3c4ba7": [
         {
          "Properties": "Goals",
          "Value": 2.694736842105263
         },
         {
          "Properties": "Shots",
          "Value": 22.535971223021583
         },
         {
          "Properties": "Freekicks",
          "Value": 1.13
         },
         {
          "Properties": "Penalties",
          "Value": 1.629496402877698
         },
         {
          "Properties": "Saves",
          "Value": 5.63129973474801
         },
         {
          "Properties": "Fouls",
          "Value": 28.855263157894736
         }
        ]
       },
       "encoding": {
        "x": {
         "field": "Value",
         "type": "quantitative"
        },
        "y": {
         "field": "Properties",
         "type": "nominal"
        }
       },
       "mark": "bar"
      },
      "image/png": "[encoded data removed]",
      "text/plain": [
       "<VegaLite 3 object>\n",
       "\n",
       "If you see this message, it means the renderer has not been properly enabled\n",
       "for the frontend that you are using. For more information, see\n",
       "https://altair-viz.github.io/user_guide/troubleshooting.html\n"
      ]
     },
     "execution_count": 15,
     "metadata": {},
     "output_type": "execute_result"
    }
   ],
   "source": [
    "#spain plot\n",
    "import altair as alt\n",
    "colorPalette = ['#fc8d59','#fee090','#e0f3f8','#91bfdb','#4575b4']\n",
    "baseSPA = alt.Chart(SpainDf)\n",
    "\n",
    "bars = baseSPA.mark_bar().encode(\n",
    "    y = alt.Y('Properties:N'),\n",
    "    x = alt.X('Value:Q')\n",
    ")\n",
    "\n",
    "\n"
   ]
  },
  {
   "cell_type": "code",
   "execution_count": null,
   "metadata": {},
   "outputs": [],
   "source": []
  },
  {
   "cell_type": "code",
   "execution_count": null,
   "metadata": {},
   "outputs": [],
   "source": [
    "import altair as alt\n",
    "#alt.data_transformers.enable('json')\n",
    "colorPalette = ['#fc8d59','#fee090','#e0f3f8','#91bfdb','#4575b4']\n",
    "base = alt.Chart(matchDf,width=500, height=300)\n",
    "\n",
    "one = base.mark_bar().encode(\n",
    "    x = alt.X('Country', sort=countries),\n",
    "    #y = 'Shots:Q',\n",
    "    y ='Goals:Q',\n",
    "    color = alt.Color('Country:N',\n",
    "    scale=alt.Scale(domain=['France', 'Spain', 'England', 'Germany', 'Italy'],\n",
    "    range=['#8c510a','#d8b365','#f6e8c3','#c7eae5','#5ab4ac','#01665e']))\n",
    "    #color = 'Country:N'\n",
    ")\n",
    "two = base.mark_bar().encode(\n",
    "    x= alt.X('Country', sort=countries),\n",
    "    y='Shots:Q',\n",
    "    #color = 'Country:N'\n",
    "    color = alt.Color('Country:N',\n",
    "    scale=alt.Scale(domain=['France', 'Spain', 'England', 'Germany', 'Italy'],\n",
    "    range=['#fc8d59','#fee090','#e0f3f8','#91bfdb','#4575b4'])),\n",
    "\n",
    ")\n",
    "\n",
    "alt.layer(\n",
    "two, one\n",
    ").resolve_scale('independent')\n"
   ]
  },
  {
   "cell_type": "code",
   "execution_count": 17,
   "metadata": {},
   "outputs": [
    {
     "ename": "NameError",
     "evalue": "name 'shotsGoals' is not defined",
     "output_type": "error",
     "traceback": [
      "\u001b[0;31m---------------------------------------------------------------------------\u001b[0m",
      "\u001b[0;31mNameError\u001b[0m                                 Traceback (most recent call last)",
      "\u001b[0;32m<ipython-input-17-99a75b01d6da>\u001b[0m in \u001b[0;36m<module>\u001b[0;34m\u001b[0m\n\u001b[1;32m      1\u001b[0m \u001b[0;32mimport\u001b[0m \u001b[0maltair\u001b[0m \u001b[0;32mas\u001b[0m \u001b[0malt\u001b[0m\u001b[0;34m\u001b[0m\u001b[0;34m\u001b[0m\u001b[0m\n\u001b[1;32m      2\u001b[0m \u001b[0;31m#alt.data_transformers.enable('json')\u001b[0m\u001b[0;34m\u001b[0m\u001b[0;34m\u001b[0m\u001b[0;34m\u001b[0m\u001b[0m\n\u001b[0;32m----> 3\u001b[0;31m base = alt.Chart(shotsGoals,width=500, height=300).transform_calculate(\n\u001b[0m\u001b[1;32m      4\u001b[0m     \u001b[0myGoalsMin\u001b[0m\u001b[0;34m=\u001b[0m\u001b[0;34m\"datum.Goals-datum.GoalsStd\"\u001b[0m\u001b[0;34m,\u001b[0m\u001b[0;34m\u001b[0m\u001b[0;34m\u001b[0m\u001b[0m\n\u001b[1;32m      5\u001b[0m     \u001b[0myGoalsMax\u001b[0m\u001b[0;34m=\u001b[0m\u001b[0;34m\"datum.Goals+datum.GoalsStd\"\u001b[0m\u001b[0;34m,\u001b[0m\u001b[0;34m\u001b[0m\u001b[0;34m\u001b[0m\u001b[0m\n",
      "\u001b[0;31mNameError\u001b[0m: name 'shotsGoals' is not defined"
     ]
    }
   ],
   "source": [
    "import altair as alt\n",
    "#alt.data_transformers.enable('json')\n",
    "base = alt.Chart(shotsGoals,width=500, height=300).transform_calculate(\n",
    "    yGoalsMin=\"datum.Goals-datum.GoalsStd\",\n",
    "    yGoalsMax=\"datum.Goals+datum.GoalsStd\",\n",
    "    yShotsMin=\"datum.Shots-datum.ShotsStd\",\n",
    "    yShotsMax=\"datum.Shots+datum.ShotsStd\",\n",
    ")\n",
    "\n",
    "colorPalette = ['#fc8d59','#fee090','#e0f3f8','#91bfdb','#4575b4']\n",
    "#color = colorPalette[-1]\n",
    "goalsAlt = base.mark_bar(color = colorPalette[-2] ).encode(\n",
    "    y = alt.Y('Country', sort=countries),\n",
    "    x = 'Goals:Q',\n",
    "    #color = 'Country:N',\n",
    ")\n",
    "\n",
    "# goalsStdAlt = base.mark_errorbar().encode(\n",
    "#     y = alt.Y('Country', sort=countries),\n",
    "#     #y = 'Shots:Q',\n",
    "#     x =alt.X('yGoalsMin:Q', axis=alt.Axis(title='')),\n",
    "#     x2 = 'yGoalsMax:Q',\n",
    "#     #color = 'Country:N',\n",
    "# )\n",
    "\n",
    "\n",
    "shotsAlt = base.mark_bar( color = colorPalette[-1] ).encode(\n",
    "    y= alt.Y('Country', sort=countries),\n",
    "    x=alt.X('Shots:Q', axis=alt.Axis(title='Shots and goals')),\n",
    "    #color = 'Country:N'\n",
    ")\n",
    "\n",
    "# shotsStdAlt = base.mark_errorbar().encode(\n",
    "#     y = alt.Y('Country', sort=countries),\n",
    "#     x = alt.X('yShotsMin:Q',axis=alt.Axis(title='') ),\n",
    "#     x2 = 'yShotsMax:Q'\n",
    "# )\n",
    "\n",
    "alt.layer( shotsAlt, goalsAlt\n",
    ").resolve_scale('independent')"
   ]
  },
  {
   "cell_type": "markdown",
   "metadata": {},
   "source": [
    "\n",
    "# Classification"
   ]
  },
  {
   "cell_type": "code",
   "execution_count": null,
   "metadata": {},
   "outputs": [],
   "source": [
    "def get_goals_per_game(teamsData):\n",
    "    keys_team_data = list(teamsData.keys())\n",
    "    return {keys_team_data[0]:teamsData[keys_team_data[0]]['score'],keys_team_data[1]:teamsData[keys_team_data[1]]['score']}"
   ]
  },
  {
   "cell_type": "code",
   "execution_count": null,
   "metadata": {},
   "outputs": [],
   "source": [
    "def get_points_per_score(teamsData): #{'3783': 2, '3767': 1}    \n",
    "    keys_team_data = list(teamsData.keys())    \n",
    "    score_match = get_goals_per_game(teamsData)\n",
    "    if score_match[keys_team_data[0]]==score_match[keys_team_data[1]]:\n",
    "        return {keys_team_data[0]:1,keys_team_data[1]:1}\n",
    "    if score_match[keys_team_data[0]]>score_match[keys_team_data[1]]:\n",
    "        return {keys_team_data[0]:3,keys_team_data[1]:0}\n",
    "    if score_match[keys_team_data[0]]<score_match[keys_team_data[1]]:\n",
    "        return {keys_team_data[0]:0,keys_team_data[1]:3}"
   ]
  },
  {
   "cell_type": "code",
   "execution_count": null,
   "metadata": {},
   "outputs": [],
   "source": [
    "def get_points_round(round_matches):\n",
    "    matches_selected = round_matches.sort_values('gameweek')\n",
    "    dicts = matches_selected.apply(lambda x: get_points_per_score(x['teamsData']), axis=1)\n",
    "    return dict(ChainMap(*list(dicts)))"
   ]
  },
  {
   "cell_type": "code",
   "execution_count": null,
   "metadata": {},
   "outputs": [],
   "source": [
    "def get_points_league(matches):\n",
    "    all_rounds = {}\n",
    "    for gameweek, matches_played in matches.groupby('gameweek'):\n",
    "        all_rounds[gameweek]=get_points_round(matches_played)\n",
    "    return pd.DataFrame.from_dict(all_rounds)"
   ]
  },
  {
   "cell_type": "code",
   "execution_count": null,
   "metadata": {},
   "outputs": [],
   "source": [
    "# points = get_points_league(matches)"
   ]
  },
  {
   "cell_type": "code",
   "execution_count": null,
   "metadata": {},
   "outputs": [],
   "source": [
    "def get_points_aggregated_by_round(matches):\n",
    "    points = get_points_league(matches)\n",
    "    for round_i in range(2,len(points.columns)+1):\n",
    "        points[round_i]=points[[round_i-1,round_i]].sum(axis=1)\n",
    "    return points"
   ]
  },
  {
   "cell_type": "code",
   "execution_count": null,
   "metadata": {},
   "outputs": [],
   "source": [
    "# points_agg = get_points_aggregated_by_round(matches)"
   ]
  },
  {
   "cell_type": "code",
   "execution_count": null,
   "metadata": {},
   "outputs": [],
   "source": [
    "def get_classification_by_round(matches):\n",
    "    points_agg = get_points_aggregated_by_round(matches)\n",
    "    return points_agg.rank(method='first',ascending=False).astype(int)"
   ]
  },
  {
   "cell_type": "code",
   "execution_count": null,
   "metadata": {},
   "outputs": [],
   "source": [
    "#classification = get_classification_by_round(matches)"
   ]
  },
  {
   "cell_type": "code",
   "execution_count": null,
   "metadata": {},
   "outputs": [],
   "source": [
    "def get_frequency_of_position_changes(matches):\n",
    "    classification = get_classification_by_round(matches)\n",
    "    all_ranks = [rank for team in classification.values\n",
    "         for rank in [rank for i, rank in enumerate(team) \n",
    "            if i==0 or team[i-1]!=rank]]\n",
    "    unique, counts = np.unique(all_ranks, return_counts=True)\n",
    "    return pd.Series(dict(zip(unique, counts)))"
   ]
  },
  {
   "cell_type": "code",
   "execution_count": null,
   "metadata": {},
   "outputs": [],
   "source": [
    "import matplotlib.pyplot\n",
    "%matplotlib inline\n",
    "get_frequency_of_position_changes(matches).plot.barh()"
   ]
  },
  {
   "cell_type": "code",
   "execution_count": null,
   "metadata": {},
   "outputs": [],
   "source": [
    "# win / month"
   ]
  },
  {
   "cell_type": "markdown",
   "metadata": {},
   "source": [
    "# Players"
   ]
  },
  {
   "cell_type": "code",
   "execution_count": null,
   "metadata": {},
   "outputs": [],
   "source": [
    "playerProfiles = pd.read_json('players/players.json')#.set_index('Id')    \n",
    "players = pd.read_json('players/playerank.json')#.set_index('Id')\n",
    "\n",
    "players.head()"
   ]
  },
  {
   "cell_type": "code",
   "execution_count": null,
   "metadata": {},
   "outputs": [],
   "source": [
    "playerProfiles.head()"
   ]
  },
  {
   "cell_type": "code",
   "execution_count": null,
   "metadata": {},
   "outputs": [],
   "source": [
    "playerRank = players.groupby('playerId').mean()\n",
    "playerRank.head()"
   ]
  },
  {
   "cell_type": "code",
   "execution_count": null,
   "metadata": {},
   "outputs": [],
   "source": [
    "import altair as alt\n",
    "\n",
    "len(playerRank)"
   ]
  },
  {
   "cell_type": "code",
   "execution_count": null,
   "metadata": {},
   "outputs": [],
   "source": []
  }
 ],
 "metadata": {
  "kernelspec": {
   "display_name": "Python 3",
   "language": "python",
   "name": "python3"
  },
  "language_info": {
   "codemirror_mode": {
    "name": "ipython",
    "version": 3
   },
   "file_extension": ".py",
   "mimetype": "text/x-python",
   "name": "python",
   "nbconvert_exporter": "python",
   "pygments_lexer": "ipython3",
   "version": "3.7.3"
  }
 },
 "nbformat": 4,
 "nbformat_minor": 4
}
