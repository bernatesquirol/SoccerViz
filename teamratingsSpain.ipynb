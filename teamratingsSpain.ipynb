{
 "cells": [
  {
   "cell_type": "code",
   "execution_count": 12,
   "metadata": {},
   "outputs": [],
   "source": [
    "import pandas as pd\n",
    "import numpy as np\n",
    "import altair as alt"
   ]
  },
  {
   "cell_type": "code",
   "execution_count": 13,
   "metadata": {},
   "outputs": [],
   "source": [
    "teams = ['FC Barcelona', 'Real Madrid', 'Atlético Madrid', 'Sevilla FC', 'Valencia CF', 'Real Betis', 'Athletic Club', 'Villarreal CF', 'Real Sociedad', 'RC Celta', 'SD Eibar', 'Girona FC', 'Getafe CF', 'RCD Espanyol', 'Levante UD', 'D. Alavés', 'CD Leganés', 'Rayo Vallecano', 'R. Valladolid CF', 'SD Huesca']\n",
    "ratings = [86, 86, 84, 80, 80, 80, 79, 79, 78, 77, 77, 77, 77, 77, 76, 76, 75, 74, 74, 72]\n",
    "avg = np.mean(ratings)"
   ]
  },
  {
   "cell_type": "code",
   "execution_count": 14,
   "metadata": {},
   "outputs": [
    {
     "data": {
      "text/plain": [
       "(20, 20)"
      ]
     },
     "execution_count": 14,
     "metadata": {},
     "output_type": "execute_result"
    }
   ],
   "source": [
    "len(teams), len(ratings)"
   ]
  },
  {
   "cell_type": "code",
   "execution_count": 16,
   "metadata": {},
   "outputs": [
    {
     "data": {
      "text/html": [
       "<div>\n",
       "<style scoped>\n",
       "    .dataframe tbody tr th:only-of-type {\n",
       "        vertical-align: middle;\n",
       "    }\n",
       "\n",
       "    .dataframe tbody tr th {\n",
       "        vertical-align: top;\n",
       "    }\n",
       "\n",
       "    .dataframe thead th {\n",
       "        text-align: right;\n",
       "    }\n",
       "</style>\n",
       "<table border=\"1\" class=\"dataframe\">\n",
       "  <thead>\n",
       "    <tr style=\"text-align: right;\">\n",
       "      <th></th>\n",
       "      <th>Teams</th>\n",
       "      <th>Rating</th>\n",
       "    </tr>\n",
       "  </thead>\n",
       "  <tbody>\n",
       "    <tr>\n",
       "      <th>0</th>\n",
       "      <td>FC Barcelona</td>\n",
       "      <td>86</td>\n",
       "    </tr>\n",
       "    <tr>\n",
       "      <th>1</th>\n",
       "      <td>Real Madrid</td>\n",
       "      <td>86</td>\n",
       "    </tr>\n",
       "    <tr>\n",
       "      <th>2</th>\n",
       "      <td>Atlético Madrid</td>\n",
       "      <td>84</td>\n",
       "    </tr>\n",
       "    <tr>\n",
       "      <th>3</th>\n",
       "      <td>Sevilla FC</td>\n",
       "      <td>80</td>\n",
       "    </tr>\n",
       "    <tr>\n",
       "      <th>4</th>\n",
       "      <td>Valencia CF</td>\n",
       "      <td>80</td>\n",
       "    </tr>\n",
       "  </tbody>\n",
       "</table>\n",
       "</div>"
      ],
      "text/plain": [
       "             Teams  Rating\n",
       "0     FC Barcelona      86\n",
       "1      Real Madrid      86\n",
       "2  Atlético Madrid      84\n",
       "3       Sevilla FC      80\n",
       "4      Valencia CF      80"
      ]
     },
     "execution_count": 16,
     "metadata": {},
     "output_type": "execute_result"
    }
   ],
   "source": [
    "spaindf = pd.DataFrame({'Teams':teams, 'Rating':ratings})\n",
    "spaindf.head()"
   ]
  },
  {
   "cell_type": "code",
   "execution_count": 25,
   "metadata": {},
   "outputs": [
    {
     "data": {
      "application/vnd.vegalite.v3+json": {
       "$schema": "https://vega.github.io/schema/vega-lite/v3.4.0.json",
       "config": {
        "mark": {
         "tooltip": null
        },
        "view": {
         "height": 300,
         "width": 400
        }
       },
       "data": {
        "name": "data-5d251138767c7110df692b3748d80652"
       },
       "datasets": {
        "data-5d251138767c7110df692b3748d80652": [
         {
          "Rating": 86,
          "Teams": "FC Barcelona"
         },
         {
          "Rating": 86,
          "Teams": "Real Madrid"
         },
         {
          "Rating": 84,
          "Teams": "Atlético Madrid"
         },
         {
          "Rating": 80,
          "Teams": "Sevilla FC"
         },
         {
          "Rating": 80,
          "Teams": "Valencia CF"
         },
         {
          "Rating": 80,
          "Teams": "Real Betis"
         },
         {
          "Rating": 79,
          "Teams": "Athletic Club"
         },
         {
          "Rating": 79,
          "Teams": "Villarreal CF"
         },
         {
          "Rating": 78,
          "Teams": "Real Sociedad"
         },
         {
          "Rating": 77,
          "Teams": "RC Celta"
         },
         {
          "Rating": 77,
          "Teams": "SD Eibar"
         },
         {
          "Rating": 77,
          "Teams": "Girona FC"
         },
         {
          "Rating": 77,
          "Teams": "Getafe CF"
         },
         {
          "Rating": 77,
          "Teams": "RCD Espanyol"
         },
         {
          "Rating": 76,
          "Teams": "Levante UD"
         },
         {
          "Rating": 76,
          "Teams": "D. Alavés"
         },
         {
          "Rating": 75,
          "Teams": "CD Leganés"
         },
         {
          "Rating": 74,
          "Teams": "Rayo Vallecano"
         },
         {
          "Rating": 74,
          "Teams": "R. Valladolid CF"
         },
         {
          "Rating": 72,
          "Teams": "SD Huesca"
         }
        ]
       },
       "encoding": {
        "x": {
         "field": "Teams",
         "sort": [
          "FC Barcelona",
          "Real Madrid",
          "Atlético Madrid",
          "Sevilla FC",
          "Valencia CF",
          "Real Betis",
          "Athletic Club",
          "Villarreal CF",
          "Real Sociedad",
          "RC Celta",
          "SD Eibar",
          "Girona FC",
          "Getafe CF",
          "RCD Espanyol",
          "Levante UD",
          "D. Alavés",
          "CD Leganés",
          "Rayo Vallecano",
          "R. Valladolid CF",
          "SD Huesca"
         ],
         "type": "nominal"
        },
        "y": {
         "field": "Rating",
         "type": "quantitative"
        }
       },
       "height": 300,
       "mark": "bar",
       "width": 500
      },
      "image/png": "[encoded data removed]",
      "text/plain": [
       "<VegaLite 3 object>\n",
       "\n",
       "If you see this message, it means the renderer has not been properly enabled\n",
       "for the frontend that you are using. For more information, see\n",
       "https://altair-viz.github.io/user_guide/troubleshooting.html\n"
      ]
     },
     "execution_count": 25,
     "metadata": {},
     "output_type": "execute_result"
    }
   ],
   "source": [
    "base = alt.Chart(spaindf, width = 500, height = 300)\n",
    "\n",
    "bar = base.mark_bar().encode(\n",
    "x = alt.X('Teams:N',sort=teams),\n",
    "y = alt.Y('Rating:Q')\n",
    "\n",
    ")\n",
    "bar"
   ]
  },
  {
   "cell_type": "code",
   "execution_count": null,
   "metadata": {},
   "outputs": [],
   "source": []
  }
 ],
 "metadata": {
  "kernelspec": {
   "display_name": "Python 3",
   "language": "python",
   "name": "python3"
  },
  "language_info": {
   "codemirror_mode": {
    "name": "ipython",
    "version": 3
   },
   "file_extension": ".py",
   "mimetype": "text/x-python",
   "name": "python",
   "nbconvert_exporter": "python",
   "pygments_lexer": "ipython3",
   "version": "3.7.3"
  }
 },
 "nbformat": 4,
 "nbformat_minor": 4
}
